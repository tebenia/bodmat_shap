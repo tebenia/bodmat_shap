{
 "cells": [
  {
   "cell_type": "code",
   "execution_count": 11,
   "metadata": {},
   "outputs": [
    {
     "ename": "ModuleNotFoundError",
     "evalue": "No module named 'skmultiflow'",
     "output_type": "error",
     "traceback": [
      "\u001b[0;31m---------------------------------------------------------------------------\u001b[0m",
      "\u001b[0;31mModuleNotFoundError\u001b[0m                       Traceback (most recent call last)",
      "Cell \u001b[0;32mIn[11], line 1\u001b[0m\n\u001b[0;32m----> 1\u001b[0m \u001b[38;5;28;01mfrom\u001b[39;00m \u001b[38;5;21;01mskmultiflow\u001b[39;00m\u001b[38;5;21;01m.\u001b[39;00m\u001b[38;5;21;01mdata\u001b[39;00m\u001b[38;5;21;01m.\u001b[39;00m\u001b[38;5;21;01mfile_stream\u001b[39;00m \u001b[38;5;28;01mimport\u001b[39;00m FileStream\n\u001b[1;32m      2\u001b[0m \u001b[38;5;28;01mfrom\u001b[39;00m \u001b[38;5;21;01mskmultiflow\u001b[39;00m\u001b[38;5;21;01m.\u001b[39;00m\u001b[38;5;21;01mmeta\u001b[39;00m \u001b[38;5;28;01mimport\u001b[39;00m AdaptiveRandomForestClassifier\n\u001b[1;32m      3\u001b[0m \u001b[38;5;28;01mfrom\u001b[39;00m \u001b[38;5;21;01mdatetime\u001b[39;00m \u001b[38;5;28;01mimport\u001b[39;00m datetime\n",
      "\u001b[0;31mModuleNotFoundError\u001b[0m: No module named 'skmultiflow'"
     ]
    }
   ],
   "source": [
    "from skmultiflow.data.file_stream import FileStream\n",
    "from skmultiflow.meta import AdaptiveRandomForestClassifier\n",
    "from datetime import datetime\n",
    "from numpy import loadtxt\n",
    "import random\n",
    "import math\n",
    "import csv\n",
    "import pickle\n",
    "import sys\n",
    "\n",
    "# Read and load the dataset into memory\n",
    "stream = FileStream(\"bodmas.csv\")\n",
    "\n",
    "test_months = []\n",
    "i = 1\n",
    "while i < len(sys.argv) - 1:\n",
    "    test_months.append(sys.argv[i] + ' ' + sys.argv[i + 1])\n",
    "    i += 2\n",
    "\n",
    "month_counts = {}\n",
    "with open('bodmas_metadata.csv', newline='') as csvfile:\n",
    "    reader = csv.DictReader(csvfile)\n",
    "    current_month = ''\n",
    "    month_count = 0\n",
    "    for row in reader:\n",
    "        datetime_str = row['timestamp'].split()[0]\n",
    "        try:\n",
    "            datetime_object = datetime.strptime(datetime_str, '%Y-%m-%d')\n",
    "        except:\n",
    "            datetime_object = datetime.strptime(datetime_str, '%m/%d/%Y')\n",
    "        if str(datetime_object.year) + ' ' + str(datetime_object.month) == current_month:\n",
    "            month_count += 1\n",
    "        else:\n",
    "            if(current_month != ''):\n",
    "                month_counts[current_month] = month_count\n",
    "            current_month = str(datetime_object.year) + ' ' + str(datetime_object.month)\n",
    "            month_count = 1\n",
    "\n",
    "print(\"month counts: \")\n",
    "print(month_counts)\n",
    "\n",
    "# Create and train the classifier\n",
    "classifier = AdaptiveRandomForestClassifier(n_estimators = 100, max_features = 10)\n",
    "\n",
    "classifier = pickle.load(open(\"classifier.sav\", 'rb'))\n",
    "for value in month_counts:\n",
    "    if value in test_months:\n",
    "        n_samples = 0\n",
    "        correct_cnt = 0\n",
    "        while n_samples < month_counts[value] and stream.has_more_samples():\n",
    "            X, y = stream.next_sample()\n",
    "            y_pred = classifier.predict(X)\n",
    "            if y[0] == y_pred[0]:\n",
    "                correct_cnt += 1\n",
    "            classifier.partial_fit(X, y)\n",
    "            n_samples += 1\n",
    "\n",
    "        # Print results\n",
    "        print('{} samples analyzed from month '.format(n_samples) + value + '.') #Display results\n",
    "        print('Accuracy: {}'.format(correct_cnt / n_samples))\n",
    "    \n",
    "    else:\n",
    "        n_samples = 0\n",
    "        while n_samples < month_counts[value] and stream.has_more_samples():\n",
    "            stream.next_sample()\n",
    "            n_samples += 1\n",
    "\n",
    "    pickle.dump(classifier, open(\"classifier.sav\", 'wb'))"
   ]
  }
 ],
 "metadata": {
  "kernelspec": {
   "display_name": "Python 3",
   "language": "python",
   "name": "python3"
  },
  "language_info": {
   "codemirror_mode": {
    "name": "ipython",
    "version": 3
   },
   "file_extension": ".py",
   "mimetype": "text/x-python",
   "name": "python",
   "nbconvert_exporter": "python",
   "pygments_lexer": "ipython3",
   "version": "3.12.2"
  }
 },
 "nbformat": 4,
 "nbformat_minor": 2
}

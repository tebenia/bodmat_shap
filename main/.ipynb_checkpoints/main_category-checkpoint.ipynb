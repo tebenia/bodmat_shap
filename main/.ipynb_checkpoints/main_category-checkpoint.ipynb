{
 "cells": [
  {
   "cell_type": "code",
   "execution_count": 45,
   "id": "93a8916e",
   "metadata": {},
   "outputs": [],
   "source": [
    "import numpy as np\n",
    "import pandas as pd\n",
    "import matplotlib.pyplot as plt\n",
    "import seaborn as sns\n",
    "from sklearn.preprocessing import LabelEncoder\n",
    "from sklearn.preprocessing import MinMaxScaler\n",
    "from sklearn.model_selection import train_test_split\n",
    "\n",
    "from sklearn.linear_model import LogisticRegression\n",
    "from sklearn.neighbors import KNeighborsClassifier\n",
    "from sklearn.tree import DecisionTreeClassifier\n",
    "from sklearn.ensemble import VotingClassifier\n",
    "\n",
    "from sklearn.naive_bayes import GaussianNB, MultinomialNB, CategoricalNB\n",
    "from sklearn.multiclass import OneVsRestClassifier\n",
    "from sklearn.ensemble import RandomForestClassifier\n",
    "from sklearn.linear_model import SGDClassifier\n",
    "\n",
    "import xgboost as xgb\n",
    "from xgboost import XGBClassifier\n",
    "\n",
    "from sklearn.metrics import accuracy_score, classification_report, confusion_matrix, precision_score, recall_score\n",
    "%matplotlib inline\n",
    "import warnings\n",
    "warnings.filterwarnings('ignore')\n",
    "seed = 44\n"
   ]
  },
  {
   "cell_type": "code",
   "execution_count": 46,
   "id": "0c61f654",
   "metadata": {},
   "outputs": [],
   "source": [
    "bodmas_df = '../datasets/bodmas.npz'"
   ]
  },
  {
   "cell_type": "code",
   "execution_count": 47,
   "id": "ec7ce91a",
   "metadata": {},
   "outputs": [
    {
     "name": "stdout",
     "output_type": "stream",
     "text": [
      "(134435, 2381) (134435,)\n"
     ]
    },
    {
     "data": {
      "text/html": [
       "<div>\n",
       "<style scoped>\n",
       "    .dataframe tbody tr th:only-of-type {\n",
       "        vertical-align: middle;\n",
       "    }\n",
       "\n",
       "    .dataframe tbody tr th {\n",
       "        vertical-align: top;\n",
       "    }\n",
       "\n",
       "    .dataframe thead th {\n",
       "        text-align: right;\n",
       "    }\n",
       "</style>\n",
       "<table border=\"1\" class=\"dataframe\">\n",
       "  <thead>\n",
       "    <tr style=\"text-align: right;\">\n",
       "      <th></th>\n",
       "      <th>0</th>\n",
       "      <th>1</th>\n",
       "      <th>2</th>\n",
       "      <th>3</th>\n",
       "      <th>4</th>\n",
       "      <th>5</th>\n",
       "      <th>6</th>\n",
       "      <th>7</th>\n",
       "      <th>8</th>\n",
       "      <th>9</th>\n",
       "      <th>...</th>\n",
       "      <th>2371</th>\n",
       "      <th>2372</th>\n",
       "      <th>2373</th>\n",
       "      <th>2374</th>\n",
       "      <th>2375</th>\n",
       "      <th>2376</th>\n",
       "      <th>2377</th>\n",
       "      <th>2378</th>\n",
       "      <th>2379</th>\n",
       "      <th>2380</th>\n",
       "    </tr>\n",
       "  </thead>\n",
       "  <tbody>\n",
       "    <tr>\n",
       "      <th>0</th>\n",
       "      <td>0.056742</td>\n",
       "      <td>0.008017</td>\n",
       "      <td>0.007762</td>\n",
       "      <td>0.005466</td>\n",
       "      <td>0.007762</td>\n",
       "      <td>0.004446</td>\n",
       "      <td>0.005430</td>\n",
       "      <td>0.003061</td>\n",
       "      <td>0.009475</td>\n",
       "      <td>0.006305</td>\n",
       "      <td>...</td>\n",
       "      <td>0.0</td>\n",
       "      <td>0.0</td>\n",
       "      <td>0.0</td>\n",
       "      <td>0.0</td>\n",
       "      <td>0.0</td>\n",
       "      <td>0.0</td>\n",
       "      <td>0.0</td>\n",
       "      <td>0.0</td>\n",
       "      <td>0.0</td>\n",
       "      <td>0.0</td>\n",
       "    </tr>\n",
       "    <tr>\n",
       "      <th>1</th>\n",
       "      <td>0.007062</td>\n",
       "      <td>0.004500</td>\n",
       "      <td>0.004498</td>\n",
       "      <td>0.004318</td>\n",
       "      <td>0.004410</td>\n",
       "      <td>0.004330</td>\n",
       "      <td>0.004265</td>\n",
       "      <td>0.004068</td>\n",
       "      <td>0.004391</td>\n",
       "      <td>0.004306</td>\n",
       "      <td>...</td>\n",
       "      <td>0.0</td>\n",
       "      <td>0.0</td>\n",
       "      <td>0.0</td>\n",
       "      <td>0.0</td>\n",
       "      <td>120.0</td>\n",
       "      <td>16564.0</td>\n",
       "      <td>0.0</td>\n",
       "      <td>0.0</td>\n",
       "      <td>0.0</td>\n",
       "      <td>0.0</td>\n",
       "    </tr>\n",
       "    <tr>\n",
       "      <th>2</th>\n",
       "      <td>0.020975</td>\n",
       "      <td>0.004699</td>\n",
       "      <td>0.004002</td>\n",
       "      <td>0.004419</td>\n",
       "      <td>0.004214</td>\n",
       "      <td>0.003865</td>\n",
       "      <td>0.003973</td>\n",
       "      <td>0.004297</td>\n",
       "      <td>0.003921</td>\n",
       "      <td>0.004145</td>\n",
       "      <td>...</td>\n",
       "      <td>0.0</td>\n",
       "      <td>0.0</td>\n",
       "      <td>0.0</td>\n",
       "      <td>0.0</td>\n",
       "      <td>0.0</td>\n",
       "      <td>0.0</td>\n",
       "      <td>0.0</td>\n",
       "      <td>0.0</td>\n",
       "      <td>0.0</td>\n",
       "      <td>0.0</td>\n",
       "    </tr>\n",
       "    <tr>\n",
       "      <th>3</th>\n",
       "      <td>0.006482</td>\n",
       "      <td>0.003821</td>\n",
       "      <td>0.003788</td>\n",
       "      <td>0.003866</td>\n",
       "      <td>0.003734</td>\n",
       "      <td>0.003784</td>\n",
       "      <td>0.003884</td>\n",
       "      <td>0.003937</td>\n",
       "      <td>0.003805</td>\n",
       "      <td>0.003809</td>\n",
       "      <td>...</td>\n",
       "      <td>0.0</td>\n",
       "      <td>0.0</td>\n",
       "      <td>0.0</td>\n",
       "      <td>0.0</td>\n",
       "      <td>140.0</td>\n",
       "      <td>16384.0</td>\n",
       "      <td>0.0</td>\n",
       "      <td>0.0</td>\n",
       "      <td>0.0</td>\n",
       "      <td>0.0</td>\n",
       "    </tr>\n",
       "    <tr>\n",
       "      <th>4</th>\n",
       "      <td>0.022135</td>\n",
       "      <td>0.003972</td>\n",
       "      <td>0.003834</td>\n",
       "      <td>0.003869</td>\n",
       "      <td>0.003759</td>\n",
       "      <td>0.003765</td>\n",
       "      <td>0.003777</td>\n",
       "      <td>0.003863</td>\n",
       "      <td>0.003773</td>\n",
       "      <td>0.003798</td>\n",
       "      <td>...</td>\n",
       "      <td>0.0</td>\n",
       "      <td>0.0</td>\n",
       "      <td>0.0</td>\n",
       "      <td>0.0</td>\n",
       "      <td>0.0</td>\n",
       "      <td>0.0</td>\n",
       "      <td>0.0</td>\n",
       "      <td>0.0</td>\n",
       "      <td>0.0</td>\n",
       "      <td>0.0</td>\n",
       "    </tr>\n",
       "    <tr>\n",
       "      <th>...</th>\n",
       "      <td>...</td>\n",
       "      <td>...</td>\n",
       "      <td>...</td>\n",
       "      <td>...</td>\n",
       "      <td>...</td>\n",
       "      <td>...</td>\n",
       "      <td>...</td>\n",
       "      <td>...</td>\n",
       "      <td>...</td>\n",
       "      <td>...</td>\n",
       "      <td>...</td>\n",
       "      <td>...</td>\n",
       "      <td>...</td>\n",
       "      <td>...</td>\n",
       "      <td>...</td>\n",
       "      <td>...</td>\n",
       "      <td>...</td>\n",
       "      <td>...</td>\n",
       "      <td>...</td>\n",
       "      <td>...</td>\n",
       "      <td>...</td>\n",
       "    </tr>\n",
       "    <tr>\n",
       "      <th>134430</th>\n",
       "      <td>0.065420</td>\n",
       "      <td>0.005993</td>\n",
       "      <td>0.005216</td>\n",
       "      <td>0.005492</td>\n",
       "      <td>0.005747</td>\n",
       "      <td>0.004183</td>\n",
       "      <td>0.005373</td>\n",
       "      <td>0.004388</td>\n",
       "      <td>0.005619</td>\n",
       "      <td>0.004121</td>\n",
       "      <td>...</td>\n",
       "      <td>72.0</td>\n",
       "      <td>1160180.0</td>\n",
       "      <td>0.0</td>\n",
       "      <td>0.0</td>\n",
       "      <td>0.0</td>\n",
       "      <td>0.0</td>\n",
       "      <td>0.0</td>\n",
       "      <td>0.0</td>\n",
       "      <td>0.0</td>\n",
       "      <td>0.0</td>\n",
       "    </tr>\n",
       "    <tr>\n",
       "      <th>134431</th>\n",
       "      <td>0.065421</td>\n",
       "      <td>0.005993</td>\n",
       "      <td>0.005216</td>\n",
       "      <td>0.005492</td>\n",
       "      <td>0.005747</td>\n",
       "      <td>0.004183</td>\n",
       "      <td>0.005373</td>\n",
       "      <td>0.004388</td>\n",
       "      <td>0.005617</td>\n",
       "      <td>0.004121</td>\n",
       "      <td>...</td>\n",
       "      <td>72.0</td>\n",
       "      <td>1160180.0</td>\n",
       "      <td>0.0</td>\n",
       "      <td>0.0</td>\n",
       "      <td>0.0</td>\n",
       "      <td>0.0</td>\n",
       "      <td>0.0</td>\n",
       "      <td>0.0</td>\n",
       "      <td>0.0</td>\n",
       "      <td>0.0</td>\n",
       "    </tr>\n",
       "    <tr>\n",
       "      <th>134432</th>\n",
       "      <td>0.142307</td>\n",
       "      <td>0.016379</td>\n",
       "      <td>0.010974</td>\n",
       "      <td>0.005991</td>\n",
       "      <td>0.009369</td>\n",
       "      <td>0.005670</td>\n",
       "      <td>0.003335</td>\n",
       "      <td>0.003099</td>\n",
       "      <td>0.009761</td>\n",
       "      <td>0.002385</td>\n",
       "      <td>...</td>\n",
       "      <td>64.0</td>\n",
       "      <td>674640.0</td>\n",
       "      <td>0.0</td>\n",
       "      <td>0.0</td>\n",
       "      <td>2180.0</td>\n",
       "      <td>585728.0</td>\n",
       "      <td>0.0</td>\n",
       "      <td>0.0</td>\n",
       "      <td>0.0</td>\n",
       "      <td>0.0</td>\n",
       "    </tr>\n",
       "    <tr>\n",
       "      <th>134433</th>\n",
       "      <td>0.142308</td>\n",
       "      <td>0.016379</td>\n",
       "      <td>0.010974</td>\n",
       "      <td>0.005991</td>\n",
       "      <td>0.009369</td>\n",
       "      <td>0.005670</td>\n",
       "      <td>0.003335</td>\n",
       "      <td>0.003099</td>\n",
       "      <td>0.009761</td>\n",
       "      <td>0.002386</td>\n",
       "      <td>...</td>\n",
       "      <td>64.0</td>\n",
       "      <td>674640.0</td>\n",
       "      <td>0.0</td>\n",
       "      <td>0.0</td>\n",
       "      <td>2180.0</td>\n",
       "      <td>585728.0</td>\n",
       "      <td>0.0</td>\n",
       "      <td>0.0</td>\n",
       "      <td>0.0</td>\n",
       "      <td>0.0</td>\n",
       "    </tr>\n",
       "    <tr>\n",
       "      <th>134434</th>\n",
       "      <td>0.142307</td>\n",
       "      <td>0.016379</td>\n",
       "      <td>0.010974</td>\n",
       "      <td>0.005991</td>\n",
       "      <td>0.009369</td>\n",
       "      <td>0.005670</td>\n",
       "      <td>0.003335</td>\n",
       "      <td>0.003099</td>\n",
       "      <td>0.009761</td>\n",
       "      <td>0.002385</td>\n",
       "      <td>...</td>\n",
       "      <td>64.0</td>\n",
       "      <td>674640.0</td>\n",
       "      <td>0.0</td>\n",
       "      <td>0.0</td>\n",
       "      <td>2180.0</td>\n",
       "      <td>585728.0</td>\n",
       "      <td>0.0</td>\n",
       "      <td>0.0</td>\n",
       "      <td>0.0</td>\n",
       "      <td>0.0</td>\n",
       "    </tr>\n",
       "  </tbody>\n",
       "</table>\n",
       "<p>134435 rows × 2381 columns</p>\n",
       "</div>"
      ],
      "text/plain": [
       "            0         1         2         3         4         5         6     \\\n",
       "0       0.056742  0.008017  0.007762  0.005466  0.007762  0.004446  0.005430   \n",
       "1       0.007062  0.004500  0.004498  0.004318  0.004410  0.004330  0.004265   \n",
       "2       0.020975  0.004699  0.004002  0.004419  0.004214  0.003865  0.003973   \n",
       "3       0.006482  0.003821  0.003788  0.003866  0.003734  0.003784  0.003884   \n",
       "4       0.022135  0.003972  0.003834  0.003869  0.003759  0.003765  0.003777   \n",
       "...          ...       ...       ...       ...       ...       ...       ...   \n",
       "134430  0.065420  0.005993  0.005216  0.005492  0.005747  0.004183  0.005373   \n",
       "134431  0.065421  0.005993  0.005216  0.005492  0.005747  0.004183  0.005373   \n",
       "134432  0.142307  0.016379  0.010974  0.005991  0.009369  0.005670  0.003335   \n",
       "134433  0.142308  0.016379  0.010974  0.005991  0.009369  0.005670  0.003335   \n",
       "134434  0.142307  0.016379  0.010974  0.005991  0.009369  0.005670  0.003335   \n",
       "\n",
       "            7         8         9     ...  2371       2372  2373  2374  \\\n",
       "0       0.003061  0.009475  0.006305  ...   0.0        0.0   0.0   0.0   \n",
       "1       0.004068  0.004391  0.004306  ...   0.0        0.0   0.0   0.0   \n",
       "2       0.004297  0.003921  0.004145  ...   0.0        0.0   0.0   0.0   \n",
       "3       0.003937  0.003805  0.003809  ...   0.0        0.0   0.0   0.0   \n",
       "4       0.003863  0.003773  0.003798  ...   0.0        0.0   0.0   0.0   \n",
       "...          ...       ...       ...  ...   ...        ...   ...   ...   \n",
       "134430  0.004388  0.005619  0.004121  ...  72.0  1160180.0   0.0   0.0   \n",
       "134431  0.004388  0.005617  0.004121  ...  72.0  1160180.0   0.0   0.0   \n",
       "134432  0.003099  0.009761  0.002385  ...  64.0   674640.0   0.0   0.0   \n",
       "134433  0.003099  0.009761  0.002386  ...  64.0   674640.0   0.0   0.0   \n",
       "134434  0.003099  0.009761  0.002385  ...  64.0   674640.0   0.0   0.0   \n",
       "\n",
       "          2375      2376  2377  2378  2379  2380  \n",
       "0          0.0       0.0   0.0   0.0   0.0   0.0  \n",
       "1        120.0   16564.0   0.0   0.0   0.0   0.0  \n",
       "2          0.0       0.0   0.0   0.0   0.0   0.0  \n",
       "3        140.0   16384.0   0.0   0.0   0.0   0.0  \n",
       "4          0.0       0.0   0.0   0.0   0.0   0.0  \n",
       "...        ...       ...   ...   ...   ...   ...  \n",
       "134430     0.0       0.0   0.0   0.0   0.0   0.0  \n",
       "134431     0.0       0.0   0.0   0.0   0.0   0.0  \n",
       "134432  2180.0  585728.0   0.0   0.0   0.0   0.0  \n",
       "134433  2180.0  585728.0   0.0   0.0   0.0   0.0  \n",
       "134434  2180.0  585728.0   0.0   0.0   0.0   0.0  \n",
       "\n",
       "[134435 rows x 2381 columns]"
      ]
     },
     "execution_count": 47,
     "metadata": {},
     "output_type": "execute_result"
    }
   ],
   "source": [
    "data = np.load(bodmas_df)\n",
    "X = data['X']  # all the feature vectors\n",
    "y = data['y']  # labels, 0 as benign, 1 as malicious\n",
    "\n",
    "print(X.shape, y.shape)\n",
    "frame = pd.DataFrame(data['X'])\n",
    "frame"
   ]
  },
  {
   "cell_type": "code",
   "execution_count": 48,
   "id": "df058b0f",
   "metadata": {},
   "outputs": [
    {
     "data": {
      "text/plain": [
       "array([0, 1], dtype=int32)"
      ]
     },
     "execution_count": 48,
     "metadata": {},
     "output_type": "execute_result"
    }
   ],
   "source": [
    "np.unique(y)"
   ]
  },
  {
   "cell_type": "code",
   "execution_count": 49,
   "id": "623b598d",
   "metadata": {},
   "outputs": [
    {
     "data": {
      "text/html": [
       "<div>\n",
       "<style scoped>\n",
       "    .dataframe tbody tr th:only-of-type {\n",
       "        vertical-align: middle;\n",
       "    }\n",
       "\n",
       "    .dataframe tbody tr th {\n",
       "        vertical-align: top;\n",
       "    }\n",
       "\n",
       "    .dataframe thead th {\n",
       "        text-align: right;\n",
       "    }\n",
       "</style>\n",
       "<table border=\"1\" class=\"dataframe\">\n",
       "  <thead>\n",
       "    <tr style=\"text-align: right;\">\n",
       "      <th></th>\n",
       "      <th>sha</th>\n",
       "      <th>timestamp</th>\n",
       "      <th>family</th>\n",
       "      <th>timestamp_new</th>\n",
       "    </tr>\n",
       "  </thead>\n",
       "  <tbody>\n",
       "    <tr>\n",
       "      <th>0</th>\n",
       "      <td>e6d7b4bab32def853ab564410df53fa33172dda1bfd48c...</td>\n",
       "      <td>2007-01-01 08:46:39+00:00</td>\n",
       "      <td>NaN</td>\n",
       "      <td>2007-01-01 08:46:39+00:00</td>\n",
       "    </tr>\n",
       "    <tr>\n",
       "      <th>1</th>\n",
       "      <td>5af37a058a5bcf2284c183ee98d92b7c66d8f5ce623e92...</td>\n",
       "      <td>2007-01-26 17:16:30+00:00</td>\n",
       "      <td>NaN</td>\n",
       "      <td>2007-01-26 17:16:30+00:00</td>\n",
       "    </tr>\n",
       "    <tr>\n",
       "      <th>2</th>\n",
       "      <td>5bfbbea150af5cef2d3a93b80ef7c7faea9f564b56045d...</td>\n",
       "      <td>2007-03-21 02:08:53+00:00</td>\n",
       "      <td>NaN</td>\n",
       "      <td>2007-03-21 02:08:53+00:00</td>\n",
       "    </tr>\n",
       "    <tr>\n",
       "      <th>3</th>\n",
       "      <td>216f592f1e1717d5681b7f5f2b14a28a2f0c603b5b7318...</td>\n",
       "      <td>2007-04-25 12:55:06+00:00</td>\n",
       "      <td>NaN</td>\n",
       "      <td>2007-04-25 12:55:06+00:00</td>\n",
       "    </tr>\n",
       "    <tr>\n",
       "      <th>4</th>\n",
       "      <td>a1ca76813d2e9e7e23b830c87fbe29bcb51fcbe096e445...</td>\n",
       "      <td>2007-11-14 15:03:55+00:00</td>\n",
       "      <td>NaN</td>\n",
       "      <td>2007-11-14 15:03:55+00:00</td>\n",
       "    </tr>\n",
       "  </tbody>\n",
       "</table>\n",
       "</div>"
      ],
      "text/plain": [
       "                                                 sha  \\\n",
       "0  e6d7b4bab32def853ab564410df53fa33172dda1bfd48c...   \n",
       "1  5af37a058a5bcf2284c183ee98d92b7c66d8f5ce623e92...   \n",
       "2  5bfbbea150af5cef2d3a93b80ef7c7faea9f564b56045d...   \n",
       "3  216f592f1e1717d5681b7f5f2b14a28a2f0c603b5b7318...   \n",
       "4  a1ca76813d2e9e7e23b830c87fbe29bcb51fcbe096e445...   \n",
       "\n",
       "                   timestamp family              timestamp_new  \n",
       "0  2007-01-01 08:46:39+00:00    NaN  2007-01-01 08:46:39+00:00  \n",
       "1  2007-01-26 17:16:30+00:00    NaN  2007-01-26 17:16:30+00:00  \n",
       "2  2007-03-21 02:08:53+00:00    NaN  2007-03-21 02:08:53+00:00  \n",
       "3  2007-04-25 12:55:06+00:00    NaN  2007-04-25 12:55:06+00:00  \n",
       "4  2007-11-14 15:03:55+00:00    NaN  2007-11-14 15:03:55+00:00  "
      ]
     },
     "execution_count": 49,
     "metadata": {},
     "output_type": "execute_result"
    }
   ],
   "source": [
    "metadata = pd.read_csv('../datasets/bodmas_metadata.csv', parse_dates=['timestamp'])\n",
    "metadata_new = pd.read_csv('../datasets/bodmas_metadata_new.csv', parse_dates=['timestamp'])\n",
    "metadata_new.head()"
   ]
  },
  {
   "cell_type": "code",
   "execution_count": 50,
   "id": "44c77a49",
   "metadata": {},
   "outputs": [
    {
     "data": {
      "text/plain": [
       "array([nan, 'autoit', 'sakurel', 'gupboot', 'juched', 'hpgandcrab',\n",
       "       'fuerboos', 'noancooe', 'skeeyah', 'wacatac', 'mira', 'upatre',\n",
       "       'delfiles', 'ceeinject', 'plugx', 'unruy', 'cambot', 'klez',\n",
       "       'mocrt', 'nitol', 'vb', 'small', 'simda', 'sillyp2p', 'ditertag',\n",
       "       'padodor', 'dinwod', 'fakefolder', 'dofoil', 'mydoom', 'urelas',\n",
       "       'qqpass', 'benjamin', 'gandcrab', 'gepys', 'fearso', 'wanna',\n",
       "       'dorv', 'qlowzones', 'injector', 'qhosts', 'lolbot', 'wabot',\n",
       "       'ganelp', 'malex', 'vobfus', 'systex', 'blocker', 'shifu', 'sytro',\n",
       "       'cuegoe', 'stration', 'occamy', 'trojanx', 'tofsee', 'stormser',\n",
       "       'ainslot', 'vtflooder', 'sfone', 'picsys', 'koceg', 'duptwux',\n",
       "       'simbot', 'obfuscator', 'autinject', 'socks', 'pluto',\n",
       "       'cryptominer', 'plite', 'fuery', 'musecador', 'fareit', 'berbew',\n",
       "       'drolnux', 'lunam', 'floxif', 'zbot', 'netwire', 'grandcrab',\n",
       "       'ursnif', 'msposer', 'autorun', 'soltern', 'mofksys', 'carberp',\n",
       "       'laqma', 'skeeeyah', 'unwaders', 'vflooder', 'yoddos', 'fasong',\n",
       "       'brontok', 'coinminer', 'onlinegames', 'bladabindi', 'pwszbot',\n",
       "       'protux', 'autoitinject', 'palevo', 'ritros', 'agent', 'shampel',\n",
       "       'darkkomet', 'dynamer', 'aenjaris', 'banker', 'quackbot', 'pykspa',\n",
       "       'glupteba', 'histboader', 'salgorea', 'netmail', 'blackfus',\n",
       "       'Unknown', 'reveton', 'yunsip', 'gamarue', 'kirts', 'tiggre',\n",
       "       'cerber', 'klone', 'delf', 'allaple', 'rpcdcom', 'smokeloader',\n",
       "       'delphi', 'installcore', 'virut', 'tescrypt', 'cryptinject',\n",
       "       'eqtonex', 'vmprotbad', 'banload', 'gbot', 'neconyd', 'vbclone',\n",
       "       'revetrat', 'chir', 'systro', 'poison', 'kaicorn', 'fipeg',\n",
       "       'xtrat', 'sessa', 'zegost', 'dustylog', 'hupigon', 'ren',\n",
       "       'androme', 'randrew', 'ipamor', 'vigorf', 'citeary', 'emdup',\n",
       "       'ircbot', 'uacskip', 'facido', 'vbinject', 'nanocore', 'fadok',\n",
       "       'bundpil', 'hpgen', 'gandcrypt', 'bzub', 'cinkel', 'emotet',\n",
       "       'pterodo', 'autoitshellinj', 'bicone', 'botgor', 'win32', 'worm',\n",
       "       'viking', 'emogen', 'fujacks', 'coinstealer', 'black', 'lore',\n",
       "       'vools', 'debris', 'roxer', 'moonlight', 'bitrep', 'agentst',\n",
       "       'bho', 'spiliwan', 'trickster', 'crysan', 'androm',\n",
       "       'explorerhijack', 'redaman', 'korpode', 'atraps', 'bobax', 'bedep',\n",
       "       'kimad', 'creprote', 'kazy', 'dapato', 'omaneat', 'kanav',\n",
       "       'gaobot', 'meterpreter', 'casur', 'rescoms', 'puwaders', 'pariham',\n",
       "       'magania', 'sisbot', 'tinyloader', 'dxmstrt', 'pornoasset',\n",
       "       'shaosmine', 'phishbank', 'phorpiex', 'farfli', 'vilsel', 'tinba',\n",
       "       'bitstealer', 'bankerx', 'miuref', 'xiaobaminer', 'sohana',\n",
       "       'wkysol', 'rifdoor', 'kuluoz', 'virtob', 'vindor', 'aproposmedia',\n",
       "       'downloader', 'sephish', 'alureon', 'trickbot', 'sillyfdc',\n",
       "       'golroted', 'startpage', 'bulta', 'imestartup', 'bancteian',\n",
       "       'agenttesla', 'sixer', 'uphosyfs', 'waski', 'registrydisabler',\n",
       "       'agentdoc', 'fukru', 'bluteal', 'maener', 'flyagent', 'fareitvb',\n",
       "       'ldpinch', 'ppatre', 'discord', 'cardspy', 'tiny', 'ausiv',\n",
       "       'dibizor', 'dyzap', 'gc13003b', 'uwasson', 'quasarrat', 'gi0704e5',\n",
       "       'launcher', 'eggnog', 'lightmoon', 'shipup', 'emelent', 'agen',\n",
       "       'obvod', 'agensla', 'ranos', 'teerac', 'bagsu', 'miniduke',\n",
       "       'asacky', 'capsfin', 'trojan', 'trickybot', 'lydra',\n",
       "       'browserpassview', 'provis', 'autog', 'gravityrat', 'pkeylog',\n",
       "       'nanobot', 'eyestye', 'stealer', 'nymaim', 'starter', 'ulise',\n",
       "       'killfiles', 'gate', 'hpbladabi', 'phoetel', 'madangel',\n",
       "       'gamehack', 'aitinject', 'kryptik', 'redosdru', 'keylogger',\n",
       "       'cenjonsla', 'dridex', 'sivis', 'svhoder', 'daws', 'turkojan',\n",
       "       'coinbitminer', 'cheval', 'icedid', 'dacic', 'xolxo', 'ryuk',\n",
       "       'graftor', 'gendwndrop', 'mewsei', 'cve-2017-0147', 'netstream',\n",
       "       'upantix', 'goznym', 'lamer', 'wannacrypt', 'azorult', 'masson',\n",
       "       'oberal', 'bayrob', 'genasep', 'mansabo', 'krap', 'blamon', 'bq',\n",
       "       'elenoocka', 'dotdo', 'portop', 'flystudio', 'warezov',\n",
       "       'agentwdcr', 'fakeav', 'rebhip', 'banbra', 'emptybuilder', 'miras',\n",
       "       'pidgeon', 'rbot', 'vbkrypt', 'qukart', 'pistolar', 'unknown',\n",
       "       'gigex', 'sysn', 'comisproc', 'imwee', 'neshta', '3636hl13',\n",
       "       'lmir', 'istartsurf', 'scar', 'ming', 'muldrop', 'gc280075',\n",
       "       'shakblades', 'baff', 'cosmu', 'mandaph', 'invader', 'andromeda',\n",
       "       'stormattack', 'blihan', 'vbinder', 'fynloski', 'wacapew',\n",
       "       'userstartup', 'prepscram', 'pakes', 'malagent', 'cabren', 'krol',\n",
       "       'locky', 'vawtrak', 'cryptodef', 'zemot', 'moarider', 'yoof',\n",
       "       'presenoker', 'dalexis', 'nohad', 'verst', 'vundo', 'vbna',\n",
       "       'cleaman', 'nivdort', 'baffec', 'delfinject', 'tockt', 'qakbot',\n",
       "       'clipbanker', 'rimecud', 'darkshell', 'necast', 'asruex',\n",
       "       'limerat', 'senta', 'execution', 'conjar', 'macoute', 'hematite',\n",
       "       'dllcheck', 'matsnu', 'vbot', 'ludbaruma', 'swisyn', 'nofear',\n",
       "       'recodrop', 'dropperx', 'bifrose', 'jacard', 'lokibot', 'blackmon',\n",
       "       'yakes', 'orbus', 'spyeyes', 'tepfer', 'avemaria', 'nabucur',\n",
       "       'prorat', 'jomloon', 'petya', 'agobot', 'pyagst', 'rikihaki',\n",
       "       'agentp', 'dumpy', 'enterak', 'shyape', 'copali', 'swrort',\n",
       "       'dorkbot', 'beebone', 'hancitor', 'killav', 'racealer', 'dwonk',\n",
       "       'dexter', 'sohanad', 'jushed', 'zonidel', 'victy', 'waledac',\n",
       "       'coolvidoor', 'pykse', 'predator', 'fignotok', 'ashify', 'bunitu',\n",
       "       'xorist', 'dorifel', 'xegumumune', 'adload', 'wadhrama', 'cutwail',\n",
       "       'phires', 'electron', 'sagent', 'jigsaw', 'zaccess', 'mintluks',\n",
       "       'netwalker', 'ransomx', 'sockhp', 'firstinj', 'agqr', 'pepm',\n",
       "       'sisproc', 'somhoveran', 'renamer', 'avzx', 'zenpak', 'mokes',\n",
       "       'ulises', 'gyepis', 'bublik', 'pabin', 'alinaos', 'gozi',\n",
       "       'bypassuac', 'sillywnse', 'gamup', 'leivion', 'qbot', 'ymacco',\n",
       "       'ceatrg', 'genasom', 'pasgen', 'njrat', 'ryzerlo', 'toobpug',\n",
       "       'ponystealer', 'loring', 'kwbot', 'cridex', 'danabot',\n",
       "       'torrentlocker', 'ulpm', 'stop', 'revengerat', 'nemptycrypt',\n",
       "       'hpkasidet', 'sirefef', 'generic', 'kapucen', 'almanahe', 'gratem',\n",
       "       'pochi', 'fraudrop', 'midie', 'malautoit', 'spyagent', 'socelars',\n",
       "       'vigua', 'toraldrop', 'agentb', 'ursumdtac', 'formbook',\n",
       "       'malwarex', 'revenge', 'ranumbot', 'ekstak', 'cryptran',\n",
       "       'caynamer', 'gimemo', 'hpcerber', 'aupa', 'kovter', 'bitwall',\n",
       "       'poullight', 'nagoot', 'perseus', 'cosmicduke', 'bandit', 'dcstl',\n",
       "       'hynamer', 'sillysharecopy', 'pcclient', 'cordis', 'dreidel',\n",
       "       'autojhminer', 'nuj', 'foreign', 'bjlog', 'crypterx', 'pcclient2',\n",
       "       'gosys', 'worgtop', 'wmnfrbptjsmib', 'sodinokibi', 'dbot',\n",
       "       'brsecmone', 'lnkwinkap', 'kpot', 'woreflint', 'babonock',\n",
       "       'crysis', 'inject', 'pulcare', 'fleercivet', 'clampi',\n",
       "       'filecrypter', 'malware', 'cobalt', 'trickbotcrypt', 'filecoder',\n",
       "       'filecoderkrypt', 'koobface', 'brsecmon', 'shade', 'wannacry',\n",
       "       'pulobe', 'iyeclore', 'stratnil', 'pkprn', 'wbna', 'finfish',\n",
       "       'bfgt', 'kuhaname'], dtype=object)"
      ]
     },
     "execution_count": 50,
     "metadata": {},
     "output_type": "execute_result"
    }
   ],
   "source": [
    "metadata_new.family.unique()"
   ]
  },
  {
   "cell_type": "code",
   "execution_count": 51,
   "id": "f7bfbf6e",
   "metadata": {},
   "outputs": [
    {
     "data": {
      "image/png": "[encoded data removed]",
      "text/plain": [
       "<Figure size 1200x600 with 1 Axes>"
      ]
     },
     "metadata": {},
     "output_type": "display_data"
    }
   ],
   "source": [
    "metadata_new.family.value_counts()\n",
    "# metadata_new.family.value_counts().plot(kind='bar', figsize=(12, 6), title='Family Distribution')\n",
    "plt.figure(figsize=(12, 6))\n",
    "plt.pie(metadata_new.family.value_counts(), labels=metadata_new.family.value_counts().index, autopct='%1.1f%%')\n",
    "plt.title('Family Distribution')\n",
    "plt.show()"
   ]
  },
  {
   "cell_type": "code",
   "execution_count": 52,
   "id": "dcd7ac39",
   "metadata": {},
   "outputs": [
    {
     "data": {
      "text/html": [
       "<div>\n",
       "<style scoped>\n",
       "    .dataframe tbody tr th:only-of-type {\n",
       "        vertical-align: middle;\n",
       "    }\n",
       "\n",
       "    .dataframe tbody tr th {\n",
       "        vertical-align: top;\n",
       "    }\n",
       "\n",
       "    .dataframe thead th {\n",
       "        text-align: right;\n",
       "    }\n",
       "</style>\n",
       "<table border=\"1\" class=\"dataframe\">\n",
       "  <thead>\n",
       "    <tr style=\"text-align: right;\">\n",
       "      <th></th>\n",
       "      <th>count</th>\n",
       "    </tr>\n",
       "    <tr>\n",
       "      <th>family</th>\n",
       "      <th></th>\n",
       "    </tr>\n",
       "  </thead>\n",
       "  <tbody>\n",
       "    <tr>\n",
       "      <th>sfone</th>\n",
       "      <td>4729</td>\n",
       "    </tr>\n",
       "    <tr>\n",
       "      <th>wacatac</th>\n",
       "      <td>4694</td>\n",
       "    </tr>\n",
       "    <tr>\n",
       "      <th>upatre</th>\n",
       "      <td>3901</td>\n",
       "    </tr>\n",
       "    <tr>\n",
       "      <th>wabot</th>\n",
       "      <td>3673</td>\n",
       "    </tr>\n",
       "    <tr>\n",
       "      <th>small</th>\n",
       "      <td>3339</td>\n",
       "    </tr>\n",
       "    <tr>\n",
       "      <th>ganelp</th>\n",
       "      <td>2232</td>\n",
       "    </tr>\n",
       "    <tr>\n",
       "      <th>dinwod</th>\n",
       "      <td>2057</td>\n",
       "    </tr>\n",
       "    <tr>\n",
       "      <th>mira</th>\n",
       "      <td>1960</td>\n",
       "    </tr>\n",
       "    <tr>\n",
       "      <th>berbew</th>\n",
       "      <td>1749</td>\n",
       "    </tr>\n",
       "    <tr>\n",
       "      <th>sillyp2p</th>\n",
       "      <td>1616</td>\n",
       "    </tr>\n",
       "    <tr>\n",
       "      <th>ceeinject</th>\n",
       "      <td>1169</td>\n",
       "    </tr>\n",
       "    <tr>\n",
       "      <th>gepys</th>\n",
       "      <td>1124</td>\n",
       "    </tr>\n",
       "    <tr>\n",
       "      <th>benjamin</th>\n",
       "      <td>1071</td>\n",
       "    </tr>\n",
       "    <tr>\n",
       "      <th>musecador</th>\n",
       "      <td>1054</td>\n",
       "    </tr>\n",
       "    <tr>\n",
       "      <th>autoit</th>\n",
       "      <td>969</td>\n",
       "    </tr>\n",
       "    <tr>\n",
       "      <th>gandcrab</th>\n",
       "      <td>957</td>\n",
       "    </tr>\n",
       "    <tr>\n",
       "      <th>drolnux</th>\n",
       "      <td>920</td>\n",
       "    </tr>\n",
       "    <tr>\n",
       "      <th>smokeloader</th>\n",
       "      <td>868</td>\n",
       "    </tr>\n",
       "    <tr>\n",
       "      <th>unruy</th>\n",
       "      <td>865</td>\n",
       "    </tr>\n",
       "    <tr>\n",
       "      <th>qukart</th>\n",
       "      <td>823</td>\n",
       "    </tr>\n",
       "  </tbody>\n",
       "</table>\n",
       "</div>"
      ],
      "text/plain": [
       "             count\n",
       "family            \n",
       "sfone         4729\n",
       "wacatac       4694\n",
       "upatre        3901\n",
       "wabot         3673\n",
       "small         3339\n",
       "ganelp        2232\n",
       "dinwod        2057\n",
       "mira          1960\n",
       "berbew        1749\n",
       "sillyp2p      1616\n",
       "ceeinject     1169\n",
       "gepys         1124\n",
       "benjamin      1071\n",
       "musecador     1054\n",
       "autoit         969\n",
       "gandcrab       957\n",
       "drolnux        920\n",
       "smokeloader    868\n",
       "unruy          865\n",
       "qukart         823"
      ]
     },
     "execution_count": 52,
     "metadata": {},
     "output_type": "execute_result"
    }
   ],
   "source": [
    "family_counts = metadata_new.family.value_counts().to_frame().head(20)\n",
    "family_counts"
   ]
  },
  {
   "cell_type": "code",
   "execution_count": 53,
   "id": "025ef6f8",
   "metadata": {},
   "outputs": [
    {
     "data": {
      "image/png": "[encoded data removed]",
      "text/plain": [
       "<Figure size 1800x600 with 1 Axes>"
      ]
     },
     "metadata": {},
     "output_type": "display_data"
    }
   ],
   "source": [
    "family_counter = metadata_new.family.value_counts().to_frame().head(20)\n",
    "plt.figure(figsize=(18, 6))\n",
    "plt.plot(family_counter)\n",
    "plt.show()"
   ]
  },
  {
   "cell_type": "code",
   "execution_count": 54,
   "id": "e42ee3a9",
   "metadata": {},
   "outputs": [
    {
     "data": {
      "text/plain": [
       "sha                  0\n",
       "timestamp            0\n",
       "family           77142\n",
       "timestamp_new        0\n",
       "dtype: int64"
      ]
     },
     "execution_count": 54,
     "metadata": {},
     "output_type": "execute_result"
    }
   ],
   "source": [
    "metadata_new.isnull().sum()"
   ]
  },
  {
   "cell_type": "code",
   "execution_count": 55,
   "id": "5ba7654e",
   "metadata": {},
   "outputs": [
    {
     "data": {
      "text/plain": [
       "77142"
      ]
     },
     "execution_count": 55,
     "metadata": {},
     "output_type": "execute_result"
    }
   ],
   "source": [
    "metadata_new.fillna('benign', inplace=True)\n",
    "metadata_new.family[metadata_new.family == 'benign'].count()"
   ]
  },
  {
   "cell_type": "code",
   "execution_count": 56,
   "id": "c2c1fd22",
   "metadata": {},
   "outputs": [
    {
     "data": {
      "text/plain": [
       "Timestamp('2007-01-01 08:46:39+0000', tz='UTC')"
      ]
     },
     "execution_count": 56,
     "metadata": {},
     "output_type": "execute_result"
    }
   ],
   "source": [
    "helo = pd.to_datetime(metadata_new.timestamp[0])\n",
    "\n",
    "helo"
   ]
  },
  {
   "cell_type": "code",
   "execution_count": 57,
   "id": "a88861a1",
   "metadata": {},
   "outputs": [
    {
     "data": {
      "text/html": [
       "<div>\n",
       "<style scoped>\n",
       "    .dataframe tbody tr th:only-of-type {\n",
       "        vertical-align: middle;\n",
       "    }\n",
       "\n",
       "    .dataframe tbody tr th {\n",
       "        vertical-align: top;\n",
       "    }\n",
       "\n",
       "    .dataframe thead th {\n",
       "        text-align: right;\n",
       "    }\n",
       "</style>\n",
       "<table border=\"1\" class=\"dataframe\">\n",
       "  <thead>\n",
       "    <tr style=\"text-align: right;\">\n",
       "      <th></th>\n",
       "      <th>sha</th>\n",
       "      <th>timestamp</th>\n",
       "      <th>family</th>\n",
       "      <th>timestamp_new</th>\n",
       "    </tr>\n",
       "  </thead>\n",
       "  <tbody>\n",
       "    <tr>\n",
       "      <th>0</th>\n",
       "      <td>e6d7b4bab32def853ab564410df53fa33172dda1bfd48c...</td>\n",
       "      <td>2007-01-01 08:46:39+00:00</td>\n",
       "      <td>benign</td>\n",
       "      <td>2007-01-01 08:46:39+00:00</td>\n",
       "    </tr>\n",
       "    <tr>\n",
       "      <th>1</th>\n",
       "      <td>5af37a058a5bcf2284c183ee98d92b7c66d8f5ce623e92...</td>\n",
       "      <td>2007-01-26 17:16:30+00:00</td>\n",
       "      <td>benign</td>\n",
       "      <td>2007-01-26 17:16:30+00:00</td>\n",
       "    </tr>\n",
       "    <tr>\n",
       "      <th>2</th>\n",
       "      <td>5bfbbea150af5cef2d3a93b80ef7c7faea9f564b56045d...</td>\n",
       "      <td>2007-03-21 02:08:53+00:00</td>\n",
       "      <td>benign</td>\n",
       "      <td>2007-03-21 02:08:53+00:00</td>\n",
       "    </tr>\n",
       "    <tr>\n",
       "      <th>3</th>\n",
       "      <td>216f592f1e1717d5681b7f5f2b14a28a2f0c603b5b7318...</td>\n",
       "      <td>2007-04-25 12:55:06+00:00</td>\n",
       "      <td>benign</td>\n",
       "      <td>2007-04-25 12:55:06+00:00</td>\n",
       "    </tr>\n",
       "    <tr>\n",
       "      <th>4</th>\n",
       "      <td>a1ca76813d2e9e7e23b830c87fbe29bcb51fcbe096e445...</td>\n",
       "      <td>2007-11-14 15:03:55+00:00</td>\n",
       "      <td>benign</td>\n",
       "      <td>2007-11-14 15:03:55+00:00</td>\n",
       "    </tr>\n",
       "  </tbody>\n",
       "</table>\n",
       "</div>"
      ],
      "text/plain": [
       "                                                 sha  \\\n",
       "0  e6d7b4bab32def853ab564410df53fa33172dda1bfd48c...   \n",
       "1  5af37a058a5bcf2284c183ee98d92b7c66d8f5ce623e92...   \n",
       "2  5bfbbea150af5cef2d3a93b80ef7c7faea9f564b56045d...   \n",
       "3  216f592f1e1717d5681b7f5f2b14a28a2f0c603b5b7318...   \n",
       "4  a1ca76813d2e9e7e23b830c87fbe29bcb51fcbe096e445...   \n",
       "\n",
       "                   timestamp  family              timestamp_new  \n",
       "0  2007-01-01 08:46:39+00:00  benign  2007-01-01 08:46:39+00:00  \n",
       "1  2007-01-26 17:16:30+00:00  benign  2007-01-26 17:16:30+00:00  \n",
       "2  2007-03-21 02:08:53+00:00  benign  2007-03-21 02:08:53+00:00  \n",
       "3  2007-04-25 12:55:06+00:00  benign  2007-04-25 12:55:06+00:00  \n",
       "4  2007-11-14 15:03:55+00:00  benign  2007-11-14 15:03:55+00:00  "
      ]
     },
     "execution_count": 57,
     "metadata": {},
     "output_type": "execute_result"
    }
   ],
   "source": [
    "metadata_new.head()"
   ]
  },
  {
   "cell_type": "code",
   "execution_count": 58,
   "id": "f9a908e7",
   "metadata": {},
   "outputs": [
    {
     "data": {
      "text/html": [
       "<div>\n",
       "<style scoped>\n",
       "    .dataframe tbody tr th:only-of-type {\n",
       "        vertical-align: middle;\n",
       "    }\n",
       "\n",
       "    .dataframe tbody tr th {\n",
       "        vertical-align: top;\n",
       "    }\n",
       "\n",
       "    .dataframe thead th {\n",
       "        text-align: right;\n",
       "    }\n",
       "</style>\n",
       "<table border=\"1\" class=\"dataframe\">\n",
       "  <thead>\n",
       "    <tr style=\"text-align: right;\">\n",
       "      <th></th>\n",
       "      <th>sha</th>\n",
       "      <th>timestamp</th>\n",
       "      <th>family</th>\n",
       "      <th>timestamp_new</th>\n",
       "    </tr>\n",
       "  </thead>\n",
       "  <tbody>\n",
       "    <tr>\n",
       "      <th>0</th>\n",
       "      <td>e6d7b4bab32def853ab564410df53fa33172dda1bfd48c...</td>\n",
       "      <td>2007-01-01 08:46:39+00:00</td>\n",
       "      <td>benign</td>\n",
       "      <td>1167641199000000000</td>\n",
       "    </tr>\n",
       "    <tr>\n",
       "      <th>1</th>\n",
       "      <td>5af37a058a5bcf2284c183ee98d92b7c66d8f5ce623e92...</td>\n",
       "      <td>2007-01-26 17:16:30+00:00</td>\n",
       "      <td>benign</td>\n",
       "      <td>1169831790000000000</td>\n",
       "    </tr>\n",
       "    <tr>\n",
       "      <th>2</th>\n",
       "      <td>5bfbbea150af5cef2d3a93b80ef7c7faea9f564b56045d...</td>\n",
       "      <td>2007-03-21 02:08:53+00:00</td>\n",
       "      <td>benign</td>\n",
       "      <td>1174442933000000000</td>\n",
       "    </tr>\n",
       "    <tr>\n",
       "      <th>3</th>\n",
       "      <td>216f592f1e1717d5681b7f5f2b14a28a2f0c603b5b7318...</td>\n",
       "      <td>2007-04-25 12:55:06+00:00</td>\n",
       "      <td>benign</td>\n",
       "      <td>1177505706000000000</td>\n",
       "    </tr>\n",
       "    <tr>\n",
       "      <th>4</th>\n",
       "      <td>a1ca76813d2e9e7e23b830c87fbe29bcb51fcbe096e445...</td>\n",
       "      <td>2007-11-14 15:03:55+00:00</td>\n",
       "      <td>benign</td>\n",
       "      <td>1195052635000000000</td>\n",
       "    </tr>\n",
       "  </tbody>\n",
       "</table>\n",
       "</div>"
      ],
      "text/plain": [
       "                                                 sha  \\\n",
       "0  e6d7b4bab32def853ab564410df53fa33172dda1bfd48c...   \n",
       "1  5af37a058a5bcf2284c183ee98d92b7c66d8f5ce623e92...   \n",
       "2  5bfbbea150af5cef2d3a93b80ef7c7faea9f564b56045d...   \n",
       "3  216f592f1e1717d5681b7f5f2b14a28a2f0c603b5b7318...   \n",
       "4  a1ca76813d2e9e7e23b830c87fbe29bcb51fcbe096e445...   \n",
       "\n",
       "                   timestamp  family        timestamp_new  \n",
       "0  2007-01-01 08:46:39+00:00  benign  1167641199000000000  \n",
       "1  2007-01-26 17:16:30+00:00  benign  1169831790000000000  \n",
       "2  2007-03-21 02:08:53+00:00  benign  1174442933000000000  \n",
       "3  2007-04-25 12:55:06+00:00  benign  1177505706000000000  \n",
       "4  2007-11-14 15:03:55+00:00  benign  1195052635000000000  "
      ]
     },
     "execution_count": 58,
     "metadata": {},
     "output_type": "execute_result"
    }
   ],
   "source": [
    "metadata_new['timestamp_new'] = pd.to_datetime(metadata_new['timestamp_new'], utc=True).astype(np.int64)\n",
    "metadata_new.head()"
   ]
  },
  {
   "cell_type": "code",
   "execution_count": 59,
   "id": "3cda970a",
   "metadata": {},
   "outputs": [
    {
     "data": {
      "text/plain": [
       "77142"
      ]
     },
     "execution_count": 59,
     "metadata": {},
     "output_type": "execute_result"
    }
   ],
   "source": [
    "metadata_new.family[metadata_new.family == 'benign'].count()"
   ]
  },
  {
   "cell_type": "code",
   "execution_count": 60,
   "id": "7acf0429",
   "metadata": {},
   "outputs": [
    {
     "data": {
      "text/plain": [
       "sha              41\n",
       "timestamp        41\n",
       "family           41\n",
       "timestamp_new    41\n",
       "dtype: int64"
      ]
     },
     "execution_count": 60,
     "metadata": {},
     "output_type": "execute_result"
    }
   ],
   "source": [
    "last_61 = metadata_new.tail(101)\n",
    "last_61[last_61['family'] == 'benign'].count()"
   ]
  },
  {
   "cell_type": "code",
   "execution_count": 61,
   "id": "fa325e07",
   "metadata": {},
   "outputs": [
    {
     "data": {
      "text/plain": [
       "41"
      ]
     },
     "execution_count": 61,
     "metadata": {},
     "output_type": "execute_result"
    }
   ],
   "source": [
    "last_61_y = y[-101:]\n",
    "(last_61_y == 0).sum()"
   ]
  },
  {
   "cell_type": "code",
   "execution_count": 62,
   "id": "9014facd",
   "metadata": {},
   "outputs": [
    {
     "data": {
      "text/html": [
       "<div>\n",
       "<style scoped>\n",
       "    .dataframe tbody tr th:only-of-type {\n",
       "        vertical-align: middle;\n",
       "    }\n",
       "\n",
       "    .dataframe tbody tr th {\n",
       "        vertical-align: top;\n",
       "    }\n",
       "\n",
       "    .dataframe thead th {\n",
       "        text-align: right;\n",
       "    }\n",
       "</style>\n",
       "<table border=\"1\" class=\"dataframe\">\n",
       "  <thead>\n",
       "    <tr style=\"text-align: right;\">\n",
       "      <th></th>\n",
       "      <th>sha256</th>\n",
       "      <th>category</th>\n",
       "    </tr>\n",
       "  </thead>\n",
       "  <tbody>\n",
       "    <tr>\n",
       "      <th>0</th>\n",
       "      <td>6a695877f571d043fe08d3cc715d9d4b4af85ffe837fa0...</td>\n",
       "      <td>worm</td>\n",
       "    </tr>\n",
       "    <tr>\n",
       "      <th>1</th>\n",
       "      <td>9ef9439795cac85e711b59df296a19e7ac43c144035f2f...</td>\n",
       "      <td>trojan</td>\n",
       "    </tr>\n",
       "    <tr>\n",
       "      <th>2</th>\n",
       "      <td>32de655f9010d8d152db16c6e5bbad215fa09286a08ff1...</td>\n",
       "      <td>worm</td>\n",
       "    </tr>\n",
       "    <tr>\n",
       "      <th>3</th>\n",
       "      <td>a68f7fb26ad84859625002395cf67f22ea0956996ed9c8...</td>\n",
       "      <td>downloader</td>\n",
       "    </tr>\n",
       "    <tr>\n",
       "      <th>4</th>\n",
       "      <td>d5c74472adfda20166a65f8b2886819a014ebcb67b999e...</td>\n",
       "      <td>trojan</td>\n",
       "    </tr>\n",
       "  </tbody>\n",
       "</table>\n",
       "</div>"
      ],
      "text/plain": [
       "                                              sha256    category\n",
       "0  6a695877f571d043fe08d3cc715d9d4b4af85ffe837fa0...        worm\n",
       "1  9ef9439795cac85e711b59df296a19e7ac43c144035f2f...      trojan\n",
       "2  32de655f9010d8d152db16c6e5bbad215fa09286a08ff1...        worm\n",
       "3  a68f7fb26ad84859625002395cf67f22ea0956996ed9c8...  downloader\n",
       "4  d5c74472adfda20166a65f8b2886819a014ebcb67b999e...      trojan"
      ]
     },
     "execution_count": 62,
     "metadata": {},
     "output_type": "execute_result"
    }
   ],
   "source": [
    "bodmas_category = pd.read_csv('../datasets/bodmas_malware_category.csv')\n",
    "bodmas_category.head()"
   ]
  },
  {
   "cell_type": "code",
   "execution_count": 63,
   "id": "7302f73d",
   "metadata": {},
   "outputs": [
    {
     "data": {
      "text/plain": [
       "(583,)"
      ]
     },
     "execution_count": 63,
     "metadata": {},
     "output_type": "execute_result"
    }
   ],
   "source": [
    "metadata_new.family.unique().shape"
   ]
  },
  {
   "cell_type": "code",
   "execution_count": 64,
   "id": "e015c60c",
   "metadata": {},
   "outputs": [
    {
     "name": "stdout",
     "output_type": "stream",
     "text": [
      "<class 'pandas.core.frame.DataFrame'>\n",
      "RangeIndex: 57293 entries, 0 to 57292\n",
      "Data columns (total 2 columns):\n",
      " #   Column    Non-Null Count  Dtype \n",
      "---  ------    --------------  ----- \n",
      " 0   sha256    57293 non-null  object\n",
      " 1   category  57293 non-null  object\n",
      "dtypes: object(2)\n",
      "memory usage: 895.3+ KB\n"
     ]
    }
   ],
   "source": [
    "bodmas_category.info()"
   ]
  },
  {
   "cell_type": "code",
   "execution_count": 65,
   "id": "d953ce37",
   "metadata": {},
   "outputs": [
    {
     "data": {
      "text/html": [
       "<div>\n",
       "<style scoped>\n",
       "    .dataframe tbody tr th:only-of-type {\n",
       "        vertical-align: middle;\n",
       "    }\n",
       "\n",
       "    .dataframe tbody tr th {\n",
       "        vertical-align: top;\n",
       "    }\n",
       "\n",
       "    .dataframe thead th {\n",
       "        text-align: right;\n",
       "    }\n",
       "</style>\n",
       "<table border=\"1\" class=\"dataframe\">\n",
       "  <thead>\n",
       "    <tr style=\"text-align: right;\">\n",
       "      <th></th>\n",
       "      <th>sha</th>\n",
       "      <th>category</th>\n",
       "    </tr>\n",
       "  </thead>\n",
       "  <tbody>\n",
       "    <tr>\n",
       "      <th>0</th>\n",
       "      <td>6a695877f571d043fe08d3cc715d9d4b4af85ffe837fa0...</td>\n",
       "      <td>worm</td>\n",
       "    </tr>\n",
       "    <tr>\n",
       "      <th>1</th>\n",
       "      <td>9ef9439795cac85e711b59df296a19e7ac43c144035f2f...</td>\n",
       "      <td>trojan</td>\n",
       "    </tr>\n",
       "    <tr>\n",
       "      <th>2</th>\n",
       "      <td>32de655f9010d8d152db16c6e5bbad215fa09286a08ff1...</td>\n",
       "      <td>worm</td>\n",
       "    </tr>\n",
       "    <tr>\n",
       "      <th>3</th>\n",
       "      <td>a68f7fb26ad84859625002395cf67f22ea0956996ed9c8...</td>\n",
       "      <td>downloader</td>\n",
       "    </tr>\n",
       "    <tr>\n",
       "      <th>4</th>\n",
       "      <td>d5c74472adfda20166a65f8b2886819a014ebcb67b999e...</td>\n",
       "      <td>trojan</td>\n",
       "    </tr>\n",
       "  </tbody>\n",
       "</table>\n",
       "</div>"
      ],
      "text/plain": [
       "                                                 sha    category\n",
       "0  6a695877f571d043fe08d3cc715d9d4b4af85ffe837fa0...        worm\n",
       "1  9ef9439795cac85e711b59df296a19e7ac43c144035f2f...      trojan\n",
       "2  32de655f9010d8d152db16c6e5bbad215fa09286a08ff1...        worm\n",
       "3  a68f7fb26ad84859625002395cf67f22ea0956996ed9c8...  downloader\n",
       "4  d5c74472adfda20166a65f8b2886819a014ebcb67b999e...      trojan"
      ]
     },
     "execution_count": 65,
     "metadata": {},
     "output_type": "execute_result"
    }
   ],
   "source": [
    "bodmas_category.rename(columns={'sha256': 'sha'}, inplace=True)\n",
    "bodmas_category.head()"
   ]
  },
  {
   "cell_type": "code",
   "execution_count": 66,
   "id": "c0dcc617",
   "metadata": {},
   "outputs": [
    {
     "data": {
      "text/plain": [
       "sha              57293\n",
       "timestamp        57293\n",
       "family           57293\n",
       "timestamp_new    57293\n",
       "dtype: int64"
      ]
     },
     "execution_count": 66,
     "metadata": {},
     "output_type": "execute_result"
    }
   ],
   "source": [
    "metadata_new[metadata_new['family'] != 'benign'].count()"
   ]
  },
  {
   "cell_type": "code",
   "execution_count": 67,
   "id": "9c3ed83f",
   "metadata": {},
   "outputs": [
    {
     "data": {
      "text/html": [
       "<div>\n",
       "<style scoped>\n",
       "    .dataframe tbody tr th:only-of-type {\n",
       "        vertical-align: middle;\n",
       "    }\n",
       "\n",
       "    .dataframe tbody tr th {\n",
       "        vertical-align: top;\n",
       "    }\n",
       "\n",
       "    .dataframe thead th {\n",
       "        text-align: right;\n",
       "    }\n",
       "</style>\n",
       "<table border=\"1\" class=\"dataframe\">\n",
       "  <thead>\n",
       "    <tr style=\"text-align: right;\">\n",
       "      <th></th>\n",
       "      <th>sha</th>\n",
       "      <th>family</th>\n",
       "      <th>timestamp_new</th>\n",
       "      <th>category</th>\n",
       "    </tr>\n",
       "  </thead>\n",
       "  <tbody>\n",
       "    <tr>\n",
       "      <th>0</th>\n",
       "      <td>e6d7b4bab32def853ab564410df53fa33172dda1bfd48c...</td>\n",
       "      <td>benign</td>\n",
       "      <td>1167641199000000000</td>\n",
       "      <td>NaN</td>\n",
       "    </tr>\n",
       "    <tr>\n",
       "      <th>1</th>\n",
       "      <td>5af37a058a5bcf2284c183ee98d92b7c66d8f5ce623e92...</td>\n",
       "      <td>benign</td>\n",
       "      <td>1169831790000000000</td>\n",
       "      <td>NaN</td>\n",
       "    </tr>\n",
       "    <tr>\n",
       "      <th>2</th>\n",
       "      <td>5bfbbea150af5cef2d3a93b80ef7c7faea9f564b56045d...</td>\n",
       "      <td>benign</td>\n",
       "      <td>1174442933000000000</td>\n",
       "      <td>NaN</td>\n",
       "    </tr>\n",
       "    <tr>\n",
       "      <th>3</th>\n",
       "      <td>216f592f1e1717d5681b7f5f2b14a28a2f0c603b5b7318...</td>\n",
       "      <td>benign</td>\n",
       "      <td>1177505706000000000</td>\n",
       "      <td>NaN</td>\n",
       "    </tr>\n",
       "    <tr>\n",
       "      <th>4</th>\n",
       "      <td>a1ca76813d2e9e7e23b830c87fbe29bcb51fcbe096e445...</td>\n",
       "      <td>benign</td>\n",
       "      <td>1195052635000000000</td>\n",
       "      <td>NaN</td>\n",
       "    </tr>\n",
       "  </tbody>\n",
       "</table>\n",
       "</div>"
      ],
      "text/plain": [
       "                                                 sha  family  \\\n",
       "0  e6d7b4bab32def853ab564410df53fa33172dda1bfd48c...  benign   \n",
       "1  5af37a058a5bcf2284c183ee98d92b7c66d8f5ce623e92...  benign   \n",
       "2  5bfbbea150af5cef2d3a93b80ef7c7faea9f564b56045d...  benign   \n",
       "3  216f592f1e1717d5681b7f5f2b14a28a2f0c603b5b7318...  benign   \n",
       "4  a1ca76813d2e9e7e23b830c87fbe29bcb51fcbe096e445...  benign   \n",
       "\n",
       "         timestamp_new category  \n",
       "0  1167641199000000000      NaN  \n",
       "1  1169831790000000000      NaN  \n",
       "2  1174442933000000000      NaN  \n",
       "3  1177505706000000000      NaN  \n",
       "4  1195052635000000000      NaN  "
      ]
     },
     "execution_count": 67,
     "metadata": {},
     "output_type": "execute_result"
    }
   ],
   "source": [
    "bodmas_data = pd.merge(metadata_new, bodmas_category, on='sha', how='left')\n",
    "bodmas_data.drop(columns=['timestamp'], inplace=True)\n",
    "bodmas_data.head()"
   ]
  },
  {
   "cell_type": "code",
   "execution_count": 68,
   "id": "4660ef4d",
   "metadata": {},
   "outputs": [
    {
     "name": "stdout",
     "output_type": "stream",
     "text": [
      "<class 'pandas.core.frame.DataFrame'>\n",
      "RangeIndex: 134435 entries, 0 to 134434\n",
      "Data columns (total 4 columns):\n",
      " #   Column         Non-Null Count   Dtype \n",
      "---  ------         --------------   ----- \n",
      " 0   sha            134435 non-null  object\n",
      " 1   family         134435 non-null  object\n",
      " 2   timestamp_new  134435 non-null  int64 \n",
      " 3   category       57293 non-null   object\n",
      "dtypes: int64(1), object(3)\n",
      "memory usage: 4.1+ MB\n"
     ]
    }
   ],
   "source": [
    "bodmas_data.info()"
   ]
  },
  {
   "cell_type": "code",
   "execution_count": 69,
   "id": "60e5b0de",
   "metadata": {},
   "outputs": [
    {
     "data": {
      "text/html": [
       "<div>\n",
       "<style scoped>\n",
       "    .dataframe tbody tr th:only-of-type {\n",
       "        vertical-align: middle;\n",
       "    }\n",
       "\n",
       "    .dataframe tbody tr th {\n",
       "        vertical-align: top;\n",
       "    }\n",
       "\n",
       "    .dataframe thead th {\n",
       "        text-align: right;\n",
       "    }\n",
       "</style>\n",
       "<table border=\"1\" class=\"dataframe\">\n",
       "  <thead>\n",
       "    <tr style=\"text-align: right;\">\n",
       "      <th></th>\n",
       "      <th>sha</th>\n",
       "      <th>family</th>\n",
       "      <th>timestamp_new</th>\n",
       "      <th>category</th>\n",
       "    </tr>\n",
       "  </thead>\n",
       "  <tbody>\n",
       "    <tr>\n",
       "      <th>0</th>\n",
       "      <td>e6d7b4bab32def853ab564410df53fa33172dda1bfd48c...</td>\n",
       "      <td>benign</td>\n",
       "      <td>1167641199000000000</td>\n",
       "      <td>benign</td>\n",
       "    </tr>\n",
       "    <tr>\n",
       "      <th>1</th>\n",
       "      <td>5af37a058a5bcf2284c183ee98d92b7c66d8f5ce623e92...</td>\n",
       "      <td>benign</td>\n",
       "      <td>1169831790000000000</td>\n",
       "      <td>benign</td>\n",
       "    </tr>\n",
       "    <tr>\n",
       "      <th>2</th>\n",
       "      <td>5bfbbea150af5cef2d3a93b80ef7c7faea9f564b56045d...</td>\n",
       "      <td>benign</td>\n",
       "      <td>1174442933000000000</td>\n",
       "      <td>benign</td>\n",
       "    </tr>\n",
       "    <tr>\n",
       "      <th>3</th>\n",
       "      <td>216f592f1e1717d5681b7f5f2b14a28a2f0c603b5b7318...</td>\n",
       "      <td>benign</td>\n",
       "      <td>1177505706000000000</td>\n",
       "      <td>benign</td>\n",
       "    </tr>\n",
       "    <tr>\n",
       "      <th>4</th>\n",
       "      <td>a1ca76813d2e9e7e23b830c87fbe29bcb51fcbe096e445...</td>\n",
       "      <td>benign</td>\n",
       "      <td>1195052635000000000</td>\n",
       "      <td>benign</td>\n",
       "    </tr>\n",
       "  </tbody>\n",
       "</table>\n",
       "</div>"
      ],
      "text/plain": [
       "                                                 sha  family  \\\n",
       "0  e6d7b4bab32def853ab564410df53fa33172dda1bfd48c...  benign   \n",
       "1  5af37a058a5bcf2284c183ee98d92b7c66d8f5ce623e92...  benign   \n",
       "2  5bfbbea150af5cef2d3a93b80ef7c7faea9f564b56045d...  benign   \n",
       "3  216f592f1e1717d5681b7f5f2b14a28a2f0c603b5b7318...  benign   \n",
       "4  a1ca76813d2e9e7e23b830c87fbe29bcb51fcbe096e445...  benign   \n",
       "\n",
       "         timestamp_new category  \n",
       "0  1167641199000000000   benign  \n",
       "1  1169831790000000000   benign  \n",
       "2  1174442933000000000   benign  \n",
       "3  1177505706000000000   benign  \n",
       "4  1195052635000000000   benign  "
      ]
     },
     "execution_count": 69,
     "metadata": {},
     "output_type": "execute_result"
    }
   ],
   "source": [
    "bodmas_data.category.fillna('benign', inplace=True)\n",
    "bodmas_data.head()"
   ]
  },
  {
   "cell_type": "code",
   "execution_count": 70,
   "id": "ae969e24",
   "metadata": {},
   "outputs": [
    {
     "data": {
      "image/png": "[encoded data removed]",
      "text/plain": [
       "<Figure size 1200x600 with 1 Axes>"
      ]
     },
     "metadata": {},
     "output_type": "display_data"
    }
   ],
   "source": [
    "no_benign = bodmas_data[bodmas_data['category'] != 'benign']\n",
    "plt.figure(figsize=(12, 6))\n",
    "plt.pie(no_benign.category.value_counts(), labels=no_benign.category.value_counts().index, autopct='%1.1f%%')\n",
    "plt.title('Category Distribution')\n",
    "plt.show()"
   ]
  },
  {
   "cell_type": "code",
   "execution_count": 71,
   "id": "b61a63be",
   "metadata": {},
   "outputs": [
    {
     "data": {
      "text/plain": [
       "array(['trojan', 'worm', 'backdoor', 'downloader', 'informationstealer',\n",
       "       'dropper', 'ransomware', 'rootkit', 'cryptominer', 'pua',\n",
       "       'exploit', 'virus', 'p2p-worm', 'trojan-gamethief'], dtype=object)"
      ]
     },
     "execution_count": 71,
     "metadata": {},
     "output_type": "execute_result"
    }
   ],
   "source": [
    "no_benign.category.unique()"
   ]
  },
  {
   "cell_type": "code",
   "execution_count": 72,
   "id": "05d7a910",
   "metadata": {},
   "outputs": [
    {
     "data": {
      "image/png": "[encoded data removed]",
      "text/plain": [
       "<Figure size 1200x600 with 1 Axes>"
      ]
     },
     "metadata": {},
     "output_type": "display_data"
    }
   ],
   "source": [
    "plt.figure(figsize=(12, 6))\n",
    "sns.countplot(data=no_benign, x='category', order=no_benign.category.value_counts().index)\n",
    "plt.xticks(rotation=90)\n",
    "plt.title('Category Count')\n",
    "plt.show()"
   ]
  },
  {
   "cell_type": "code",
   "execution_count": 73,
   "id": "f3f0912d",
   "metadata": {},
   "outputs": [
    {
     "data": {
      "text/html": [
       "<div>\n",
       "<style scoped>\n",
       "    .dataframe tbody tr th:only-of-type {\n",
       "        vertical-align: middle;\n",
       "    }\n",
       "\n",
       "    .dataframe tbody tr th {\n",
       "        vertical-align: top;\n",
       "    }\n",
       "\n",
       "    .dataframe thead th {\n",
       "        text-align: right;\n",
       "    }\n",
       "</style>\n",
       "<table border=\"1\" class=\"dataframe\">\n",
       "  <thead>\n",
       "    <tr style=\"text-align: right;\">\n",
       "      <th></th>\n",
       "      <th>sha</th>\n",
       "      <th>family</th>\n",
       "      <th>timestamp_new</th>\n",
       "      <th>category</th>\n",
       "    </tr>\n",
       "  </thead>\n",
       "  <tbody>\n",
       "    <tr>\n",
       "      <th>0</th>\n",
       "      <td>e6d7b4bab32def853ab564410df53fa33172dda1bfd48c...</td>\n",
       "      <td>54</td>\n",
       "      <td>1167641199000000000</td>\n",
       "      <td>1</td>\n",
       "    </tr>\n",
       "    <tr>\n",
       "      <th>1</th>\n",
       "      <td>5af37a058a5bcf2284c183ee98d92b7c66d8f5ce623e92...</td>\n",
       "      <td>54</td>\n",
       "      <td>1169831790000000000</td>\n",
       "      <td>1</td>\n",
       "    </tr>\n",
       "    <tr>\n",
       "      <th>2</th>\n",
       "      <td>5bfbbea150af5cef2d3a93b80ef7c7faea9f564b56045d...</td>\n",
       "      <td>54</td>\n",
       "      <td>1174442933000000000</td>\n",
       "      <td>1</td>\n",
       "    </tr>\n",
       "    <tr>\n",
       "      <th>3</th>\n",
       "      <td>216f592f1e1717d5681b7f5f2b14a28a2f0c603b5b7318...</td>\n",
       "      <td>54</td>\n",
       "      <td>1177505706000000000</td>\n",
       "      <td>1</td>\n",
       "    </tr>\n",
       "    <tr>\n",
       "      <th>4</th>\n",
       "      <td>a1ca76813d2e9e7e23b830c87fbe29bcb51fcbe096e445...</td>\n",
       "      <td>54</td>\n",
       "      <td>1195052635000000000</td>\n",
       "      <td>1</td>\n",
       "    </tr>\n",
       "  </tbody>\n",
       "</table>\n",
       "</div>"
      ],
      "text/plain": [
       "                                                 sha  family  \\\n",
       "0  e6d7b4bab32def853ab564410df53fa33172dda1bfd48c...      54   \n",
       "1  5af37a058a5bcf2284c183ee98d92b7c66d8f5ce623e92...      54   \n",
       "2  5bfbbea150af5cef2d3a93b80ef7c7faea9f564b56045d...      54   \n",
       "3  216f592f1e1717d5681b7f5f2b14a28a2f0c603b5b7318...      54   \n",
       "4  a1ca76813d2e9e7e23b830c87fbe29bcb51fcbe096e445...      54   \n",
       "\n",
       "         timestamp_new  category  \n",
       "0  1167641199000000000         1  \n",
       "1  1169831790000000000         1  \n",
       "2  1174442933000000000         1  \n",
       "3  1177505706000000000         1  \n",
       "4  1195052635000000000         1  "
      ]
     },
     "execution_count": 73,
     "metadata": {},
     "output_type": "execute_result"
    }
   ],
   "source": [
    "le = LabelEncoder()\n",
    "bodmas_data['category'] = le.fit_transform(bodmas_data['category'])\n",
    "bodmas_data['family'] = le.fit_transform(bodmas_data['family'])\n",
    "bodmas_data.head()"
   ]
  },
  {
   "cell_type": "code",
   "execution_count": 74,
   "id": "edeab342",
   "metadata": {},
   "outputs": [
    {
     "name": "stdout",
     "output_type": "stream",
     "text": [
      "[ 1 11 14  0  3  6  4  9 10  2  8  5 13  7 12]\n",
      "[ 54  33 438 234 260 241 201 347 464 552 320 520 138  94 380 517  87 271\n",
      " 324 344 528 465 457 453 145 360 143 181 147 331 522 407  55 209 221 186\n",
      " 555 150 406 250 405 295 550 211 307 546 490  71 449 492 124 484 355 510\n",
      " 501 483  15 548 444 374 273 158 456 353  31 469 381 120 379 202 330 182\n",
      "  56 155 299 195 578 343 231 523 328  37 473 325  89 285 463 518 536 574\n",
      " 185  76 106 357  68 399 393  34 362 432   6 447 131 162   3  48 408 402\n",
      " 225 238 439 340  66   1 427 576 206 270 496  96 272 137  18 434 466 140\n",
      " 251 544 495 118 174 545  50 214 337 529 428  98 491 383 262 192 571 443\n",
      " 579 159 244 422  22 412 253 538 100 168 254 512 178 531 335 179  82 242\n",
      " 210  85  99 171 395  35  59  74 561 566 540 170 203 107  65 296 547 136\n",
      " 433 327  61  10  58 475 507 122  21 176 419 275  28  73  52 269 115 265\n",
      " 130 356 263 212 314  91 424 398 363 304 459 499 161 385 448 371 373 184\n",
      " 541 497  62  49 322 568 471 562 429 282 543 542  24 152 442  20 505 452\n",
      " 226 479  81 247  46  11 462 521 559 421   8 204  72 303 196 183 287 388\n",
      " 144  90 498  30 142 163 215 526 409 222 286 164 289 450 169   4 354   5\n",
      " 413 493  44 318  25  88 509 508 300  77 394  32 233 377 334 177 480 351\n",
      " 478 513 268 213 239 372 302 207  16 280 420 266  95 154 461 486 133 511\n",
      " 105  97 246 127 569 435 230 219 315 126 341 519 229 284 557  40 312 352\n",
      "  51 217 311 278  69  75 167 151 386 197 558  12 180 417  45 172 321 375\n",
      " 416 532 410 376 516 223 489 108 248 339   0 291 255 440 317 329 216 446\n",
      "  42 114 310 252  23 482  70 530 205 551 525 390 361 305  86 279 293 527\n",
      " 119 580 323 575 391 128 349 535 549 533 102 345  43 139 500 403 103 431\n",
      " 132 336  27 290 441 175 109 301 237 146 313 534 298 487 348 418 156  60\n",
      " 257 294  67 572 358 477 494  38 332 392 259 369  13 400 430   9 157 173\n",
      " 451 111 488 149  53 236 267 411 160 141 472 261 582 537 554 110 401 389\n",
      " 187  26  83 570 148 567   2 553 125 370 166 437 258 577 319 342 414 468\n",
      " 193  14 367 460 474 423  39 581 326 514 235  80 359  17 228  84 455 208\n",
      " 288 404 573  93 218 364 346 436 502 384 297 283 116 129 504 515 481 426\n",
      " 338 243 458 220 264  19 232 382 200 316 306 476 467 539 503   7 524 199\n",
      " 309 425 415 165 121  92 224 240  29 276  63 387 333 368 113  47 135 245\n",
      " 454 365 112 153  36 350 198  64 117 366 227 565 563 470 134  79 292 277\n",
      " 564  41 123 249 396 194 101 190 308 104 506 188 189 274  78 445 556 397\n",
      " 256 485 378 560 191  57 281]\n"
     ]
    }
   ],
   "source": [
    "print(bodmas_data['category'].unique())\n",
    "print(bodmas_data['family'].unique())"
   ]
  },
  {
   "cell_type": "code",
   "execution_count": 75,
   "id": "294da8cf",
   "metadata": {},
   "outputs": [
    {
     "data": {
      "text/html": [
       "<div>\n",
       "<style scoped>\n",
       "    .dataframe tbody tr th:only-of-type {\n",
       "        vertical-align: middle;\n",
       "    }\n",
       "\n",
       "    .dataframe tbody tr th {\n",
       "        vertical-align: top;\n",
       "    }\n",
       "\n",
       "    .dataframe thead th {\n",
       "        text-align: right;\n",
       "    }\n",
       "</style>\n",
       "<table border=\"1\" class=\"dataframe\">\n",
       "  <thead>\n",
       "    <tr style=\"text-align: right;\">\n",
       "      <th></th>\n",
       "      <th>family</th>\n",
       "      <th>timestamp_new</th>\n",
       "      <th>category</th>\n",
       "    </tr>\n",
       "  </thead>\n",
       "  <tbody>\n",
       "    <tr>\n",
       "      <th>0</th>\n",
       "      <td>54</td>\n",
       "      <td>1167641199000000000</td>\n",
       "      <td>1</td>\n",
       "    </tr>\n",
       "    <tr>\n",
       "      <th>1</th>\n",
       "      <td>54</td>\n",
       "      <td>1169831790000000000</td>\n",
       "      <td>1</td>\n",
       "    </tr>\n",
       "    <tr>\n",
       "      <th>2</th>\n",
       "      <td>54</td>\n",
       "      <td>1174442933000000000</td>\n",
       "      <td>1</td>\n",
       "    </tr>\n",
       "    <tr>\n",
       "      <th>3</th>\n",
       "      <td>54</td>\n",
       "      <td>1177505706000000000</td>\n",
       "      <td>1</td>\n",
       "    </tr>\n",
       "    <tr>\n",
       "      <th>4</th>\n",
       "      <td>54</td>\n",
       "      <td>1195052635000000000</td>\n",
       "      <td>1</td>\n",
       "    </tr>\n",
       "    <tr>\n",
       "      <th>...</th>\n",
       "      <td>...</td>\n",
       "      <td>...</td>\n",
       "      <td>...</td>\n",
       "    </tr>\n",
       "    <tr>\n",
       "      <th>134430</th>\n",
       "      <td>33</td>\n",
       "      <td>1601435122000000000</td>\n",
       "      <td>11</td>\n",
       "    </tr>\n",
       "    <tr>\n",
       "      <th>134431</th>\n",
       "      <td>33</td>\n",
       "      <td>1601435123000000000</td>\n",
       "      <td>11</td>\n",
       "    </tr>\n",
       "    <tr>\n",
       "      <th>134432</th>\n",
       "      <td>33</td>\n",
       "      <td>1601435124000000000</td>\n",
       "      <td>11</td>\n",
       "    </tr>\n",
       "    <tr>\n",
       "      <th>134433</th>\n",
       "      <td>33</td>\n",
       "      <td>1601435126000000000</td>\n",
       "      <td>11</td>\n",
       "    </tr>\n",
       "    <tr>\n",
       "      <th>134434</th>\n",
       "      <td>33</td>\n",
       "      <td>1601435127000000000</td>\n",
       "      <td>11</td>\n",
       "    </tr>\n",
       "  </tbody>\n",
       "</table>\n",
       "<p>134435 rows × 3 columns</p>\n",
       "</div>"
      ],
      "text/plain": [
       "        family        timestamp_new  category\n",
       "0           54  1167641199000000000         1\n",
       "1           54  1169831790000000000         1\n",
       "2           54  1174442933000000000         1\n",
       "3           54  1177505706000000000         1\n",
       "4           54  1195052635000000000         1\n",
       "...        ...                  ...       ...\n",
       "134430      33  1601435122000000000        11\n",
       "134431      33  1601435123000000000        11\n",
       "134432      33  1601435124000000000        11\n",
       "134433      33  1601435126000000000        11\n",
       "134434      33  1601435127000000000        11\n",
       "\n",
       "[134435 rows x 3 columns]"
      ]
     },
     "execution_count": 75,
     "metadata": {},
     "output_type": "execute_result"
    }
   ],
   "source": [
    "bodmas_data.drop('sha', axis=1, inplace=True)\n",
    "bodmas_pd = pd.DataFrame(bodmas_data)\n",
    "bodmas_pd"
   ]
  },
  {
   "cell_type": "code",
   "execution_count": 76,
   "id": "439c362c",
   "metadata": {},
   "outputs": [
    {
     "data": {
      "text/html": [
       "<div>\n",
       "<style scoped>\n",
       "    .dataframe tbody tr th:only-of-type {\n",
       "        vertical-align: middle;\n",
       "    }\n",
       "\n",
       "    .dataframe tbody tr th {\n",
       "        vertical-align: top;\n",
       "    }\n",
       "\n",
       "    .dataframe thead th {\n",
       "        text-align: right;\n",
       "    }\n",
       "</style>\n",
       "<table border=\"1\" class=\"dataframe\">\n",
       "  <thead>\n",
       "    <tr style=\"text-align: right;\">\n",
       "      <th></th>\n",
       "      <th>0</th>\n",
       "      <th>1</th>\n",
       "      <th>2</th>\n",
       "      <th>3</th>\n",
       "      <th>4</th>\n",
       "      <th>5</th>\n",
       "      <th>6</th>\n",
       "      <th>7</th>\n",
       "      <th>8</th>\n",
       "      <th>9</th>\n",
       "      <th>...</th>\n",
       "      <th>2371</th>\n",
       "      <th>2372</th>\n",
       "      <th>2373</th>\n",
       "      <th>2374</th>\n",
       "      <th>2375</th>\n",
       "      <th>2376</th>\n",
       "      <th>2377</th>\n",
       "      <th>2378</th>\n",
       "      <th>2379</th>\n",
       "      <th>2380</th>\n",
       "    </tr>\n",
       "  </thead>\n",
       "  <tbody>\n",
       "    <tr>\n",
       "      <th>0</th>\n",
       "      <td>0.056742</td>\n",
       "      <td>0.008017</td>\n",
       "      <td>0.007762</td>\n",
       "      <td>0.005466</td>\n",
       "      <td>0.007762</td>\n",
       "      <td>0.004446</td>\n",
       "      <td>0.005430</td>\n",
       "      <td>0.003061</td>\n",
       "      <td>0.009475</td>\n",
       "      <td>0.006305</td>\n",
       "      <td>...</td>\n",
       "      <td>0.0</td>\n",
       "      <td>0.0</td>\n",
       "      <td>0.0</td>\n",
       "      <td>0.0</td>\n",
       "      <td>0.0</td>\n",
       "      <td>0.0</td>\n",
       "      <td>0.0</td>\n",
       "      <td>0.0</td>\n",
       "      <td>0.0</td>\n",
       "      <td>0.0</td>\n",
       "    </tr>\n",
       "    <tr>\n",
       "      <th>1</th>\n",
       "      <td>0.007062</td>\n",
       "      <td>0.004500</td>\n",
       "      <td>0.004498</td>\n",
       "      <td>0.004318</td>\n",
       "      <td>0.004410</td>\n",
       "      <td>0.004330</td>\n",
       "      <td>0.004265</td>\n",
       "      <td>0.004068</td>\n",
       "      <td>0.004391</td>\n",
       "      <td>0.004306</td>\n",
       "      <td>...</td>\n",
       "      <td>0.0</td>\n",
       "      <td>0.0</td>\n",
       "      <td>0.0</td>\n",
       "      <td>0.0</td>\n",
       "      <td>120.0</td>\n",
       "      <td>16564.0</td>\n",
       "      <td>0.0</td>\n",
       "      <td>0.0</td>\n",
       "      <td>0.0</td>\n",
       "      <td>0.0</td>\n",
       "    </tr>\n",
       "    <tr>\n",
       "      <th>2</th>\n",
       "      <td>0.020975</td>\n",
       "      <td>0.004699</td>\n",
       "      <td>0.004002</td>\n",
       "      <td>0.004419</td>\n",
       "      <td>0.004214</td>\n",
       "      <td>0.003865</td>\n",
       "      <td>0.003973</td>\n",
       "      <td>0.004297</td>\n",
       "      <td>0.003921</td>\n",
       "      <td>0.004145</td>\n",
       "      <td>...</td>\n",
       "      <td>0.0</td>\n",
       "      <td>0.0</td>\n",
       "      <td>0.0</td>\n",
       "      <td>0.0</td>\n",
       "      <td>0.0</td>\n",
       "      <td>0.0</td>\n",
       "      <td>0.0</td>\n",
       "      <td>0.0</td>\n",
       "      <td>0.0</td>\n",
       "      <td>0.0</td>\n",
       "    </tr>\n",
       "    <tr>\n",
       "      <th>3</th>\n",
       "      <td>0.006482</td>\n",
       "      <td>0.003821</td>\n",
       "      <td>0.003788</td>\n",
       "      <td>0.003866</td>\n",
       "      <td>0.003734</td>\n",
       "      <td>0.003784</td>\n",
       "      <td>0.003884</td>\n",
       "      <td>0.003937</td>\n",
       "      <td>0.003805</td>\n",
       "      <td>0.003809</td>\n",
       "      <td>...</td>\n",
       "      <td>0.0</td>\n",
       "      <td>0.0</td>\n",
       "      <td>0.0</td>\n",
       "      <td>0.0</td>\n",
       "      <td>140.0</td>\n",
       "      <td>16384.0</td>\n",
       "      <td>0.0</td>\n",
       "      <td>0.0</td>\n",
       "      <td>0.0</td>\n",
       "      <td>0.0</td>\n",
       "    </tr>\n",
       "    <tr>\n",
       "      <th>4</th>\n",
       "      <td>0.022135</td>\n",
       "      <td>0.003972</td>\n",
       "      <td>0.003834</td>\n",
       "      <td>0.003869</td>\n",
       "      <td>0.003759</td>\n",
       "      <td>0.003765</td>\n",
       "      <td>0.003777</td>\n",
       "      <td>0.003863</td>\n",
       "      <td>0.003773</td>\n",
       "      <td>0.003798</td>\n",
       "      <td>...</td>\n",
       "      <td>0.0</td>\n",
       "      <td>0.0</td>\n",
       "      <td>0.0</td>\n",
       "      <td>0.0</td>\n",
       "      <td>0.0</td>\n",
       "      <td>0.0</td>\n",
       "      <td>0.0</td>\n",
       "      <td>0.0</td>\n",
       "      <td>0.0</td>\n",
       "      <td>0.0</td>\n",
       "    </tr>\n",
       "  </tbody>\n",
       "</table>\n",
       "<p>5 rows × 2381 columns</p>\n",
       "</div>"
      ],
      "text/plain": [
       "       0         1         2         3         4         5         6     \\\n",
       "0  0.056742  0.008017  0.007762  0.005466  0.007762  0.004446  0.005430   \n",
       "1  0.007062  0.004500  0.004498  0.004318  0.004410  0.004330  0.004265   \n",
       "2  0.020975  0.004699  0.004002  0.004419  0.004214  0.003865  0.003973   \n",
       "3  0.006482  0.003821  0.003788  0.003866  0.003734  0.003784  0.003884   \n",
       "4  0.022135  0.003972  0.003834  0.003869  0.003759  0.003765  0.003777   \n",
       "\n",
       "       7         8         9     ...  2371  2372  2373  2374   2375     2376  \\\n",
       "0  0.003061  0.009475  0.006305  ...   0.0   0.0   0.0   0.0    0.0      0.0   \n",
       "1  0.004068  0.004391  0.004306  ...   0.0   0.0   0.0   0.0  120.0  16564.0   \n",
       "2  0.004297  0.003921  0.004145  ...   0.0   0.0   0.0   0.0    0.0      0.0   \n",
       "3  0.003937  0.003805  0.003809  ...   0.0   0.0   0.0   0.0  140.0  16384.0   \n",
       "4  0.003863  0.003773  0.003798  ...   0.0   0.0   0.0   0.0    0.0      0.0   \n",
       "\n",
       "   2377  2378  2379  2380  \n",
       "0   0.0   0.0   0.0   0.0  \n",
       "1   0.0   0.0   0.0   0.0  \n",
       "2   0.0   0.0   0.0   0.0  \n",
       "3   0.0   0.0   0.0   0.0  \n",
       "4   0.0   0.0   0.0   0.0  \n",
       "\n",
       "[5 rows x 2381 columns]"
      ]
     },
     "execution_count": 76,
     "metadata": {},
     "output_type": "execute_result"
    }
   ],
   "source": [
    "X_data = pd.DataFrame(data['X'])\n",
    "y_real = pd.DataFrame(data['y'])\n",
    "X_data.head()"
   ]
  },
  {
   "cell_type": "code",
   "execution_count": 77,
   "id": "aae8eba5",
   "metadata": {},
   "outputs": [],
   "source": [
    "# X_data_label = pd.concat([X_data, bodmas_data, y_real], axis=1, ignore_index=True, sort=False)\n",
    "X_data_label = pd.concat([X_data, bodmas_data[['timestamp_new', 'family']], y_real], axis=1, ignore_index=True, sort=False)"
   ]
  },
  {
   "cell_type": "code",
   "execution_count": 78,
   "id": "5e768225",
   "metadata": {},
   "outputs": [
    {
     "data": {
      "text/html": [
       "<div>\n",
       "<style scoped>\n",
       "    .dataframe tbody tr th:only-of-type {\n",
       "        vertical-align: middle;\n",
       "    }\n",
       "\n",
       "    .dataframe tbody tr th {\n",
       "        vertical-align: top;\n",
       "    }\n",
       "\n",
       "    .dataframe thead th {\n",
       "        text-align: right;\n",
       "    }\n",
       "</style>\n",
       "<table border=\"1\" class=\"dataframe\">\n",
       "  <thead>\n",
       "    <tr style=\"text-align: right;\">\n",
       "      <th></th>\n",
       "      <th>0</th>\n",
       "      <th>1</th>\n",
       "      <th>2</th>\n",
       "      <th>3</th>\n",
       "      <th>4</th>\n",
       "      <th>5</th>\n",
       "      <th>6</th>\n",
       "      <th>7</th>\n",
       "      <th>8</th>\n",
       "      <th>9</th>\n",
       "      <th>...</th>\n",
       "      <th>2374</th>\n",
       "      <th>2375</th>\n",
       "      <th>2376</th>\n",
       "      <th>2377</th>\n",
       "      <th>2378</th>\n",
       "      <th>2379</th>\n",
       "      <th>2380</th>\n",
       "      <th>2381</th>\n",
       "      <th>2382</th>\n",
       "      <th>2383</th>\n",
       "    </tr>\n",
       "  </thead>\n",
       "  <tbody>\n",
       "    <tr>\n",
       "      <th>134430</th>\n",
       "      <td>0.065420</td>\n",
       "      <td>0.005993</td>\n",
       "      <td>0.005216</td>\n",
       "      <td>0.005492</td>\n",
       "      <td>0.005747</td>\n",
       "      <td>0.004183</td>\n",
       "      <td>0.005373</td>\n",
       "      <td>0.004388</td>\n",
       "      <td>0.005619</td>\n",
       "      <td>0.004121</td>\n",
       "      <td>...</td>\n",
       "      <td>0.0</td>\n",
       "      <td>0.0</td>\n",
       "      <td>0.0</td>\n",
       "      <td>0.0</td>\n",
       "      <td>0.0</td>\n",
       "      <td>0.0</td>\n",
       "      <td>0.0</td>\n",
       "      <td>1601435122000000000</td>\n",
       "      <td>33</td>\n",
       "      <td>1</td>\n",
       "    </tr>\n",
       "    <tr>\n",
       "      <th>134431</th>\n",
       "      <td>0.065421</td>\n",
       "      <td>0.005993</td>\n",
       "      <td>0.005216</td>\n",
       "      <td>0.005492</td>\n",
       "      <td>0.005747</td>\n",
       "      <td>0.004183</td>\n",
       "      <td>0.005373</td>\n",
       "      <td>0.004388</td>\n",
       "      <td>0.005617</td>\n",
       "      <td>0.004121</td>\n",
       "      <td>...</td>\n",
       "      <td>0.0</td>\n",
       "      <td>0.0</td>\n",
       "      <td>0.0</td>\n",
       "      <td>0.0</td>\n",
       "      <td>0.0</td>\n",
       "      <td>0.0</td>\n",
       "      <td>0.0</td>\n",
       "      <td>1601435123000000000</td>\n",
       "      <td>33</td>\n",
       "      <td>1</td>\n",
       "    </tr>\n",
       "    <tr>\n",
       "      <th>134432</th>\n",
       "      <td>0.142307</td>\n",
       "      <td>0.016379</td>\n",
       "      <td>0.010974</td>\n",
       "      <td>0.005991</td>\n",
       "      <td>0.009369</td>\n",
       "      <td>0.005670</td>\n",
       "      <td>0.003335</td>\n",
       "      <td>0.003099</td>\n",
       "      <td>0.009761</td>\n",
       "      <td>0.002385</td>\n",
       "      <td>...</td>\n",
       "      <td>0.0</td>\n",
       "      <td>2180.0</td>\n",
       "      <td>585728.0</td>\n",
       "      <td>0.0</td>\n",
       "      <td>0.0</td>\n",
       "      <td>0.0</td>\n",
       "      <td>0.0</td>\n",
       "      <td>1601435124000000000</td>\n",
       "      <td>33</td>\n",
       "      <td>1</td>\n",
       "    </tr>\n",
       "    <tr>\n",
       "      <th>134433</th>\n",
       "      <td>0.142308</td>\n",
       "      <td>0.016379</td>\n",
       "      <td>0.010974</td>\n",
       "      <td>0.005991</td>\n",
       "      <td>0.009369</td>\n",
       "      <td>0.005670</td>\n",
       "      <td>0.003335</td>\n",
       "      <td>0.003099</td>\n",
       "      <td>0.009761</td>\n",
       "      <td>0.002386</td>\n",
       "      <td>...</td>\n",
       "      <td>0.0</td>\n",
       "      <td>2180.0</td>\n",
       "      <td>585728.0</td>\n",
       "      <td>0.0</td>\n",
       "      <td>0.0</td>\n",
       "      <td>0.0</td>\n",
       "      <td>0.0</td>\n",
       "      <td>1601435126000000000</td>\n",
       "      <td>33</td>\n",
       "      <td>1</td>\n",
       "    </tr>\n",
       "    <tr>\n",
       "      <th>134434</th>\n",
       "      <td>0.142307</td>\n",
       "      <td>0.016379</td>\n",
       "      <td>0.010974</td>\n",
       "      <td>0.005991</td>\n",
       "      <td>0.009369</td>\n",
       "      <td>0.005670</td>\n",
       "      <td>0.003335</td>\n",
       "      <td>0.003099</td>\n",
       "      <td>0.009761</td>\n",
       "      <td>0.002385</td>\n",
       "      <td>...</td>\n",
       "      <td>0.0</td>\n",
       "      <td>2180.0</td>\n",
       "      <td>585728.0</td>\n",
       "      <td>0.0</td>\n",
       "      <td>0.0</td>\n",
       "      <td>0.0</td>\n",
       "      <td>0.0</td>\n",
       "      <td>1601435127000000000</td>\n",
       "      <td>33</td>\n",
       "      <td>1</td>\n",
       "    </tr>\n",
       "  </tbody>\n",
       "</table>\n",
       "<p>5 rows × 2384 columns</p>\n",
       "</div>"
      ],
      "text/plain": [
       "            0         1         2         3         4         5         6     \\\n",
       "134430  0.065420  0.005993  0.005216  0.005492  0.005747  0.004183  0.005373   \n",
       "134431  0.065421  0.005993  0.005216  0.005492  0.005747  0.004183  0.005373   \n",
       "134432  0.142307  0.016379  0.010974  0.005991  0.009369  0.005670  0.003335   \n",
       "134433  0.142308  0.016379  0.010974  0.005991  0.009369  0.005670  0.003335   \n",
       "134434  0.142307  0.016379  0.010974  0.005991  0.009369  0.005670  0.003335   \n",
       "\n",
       "            7         8         9     ...  2374    2375      2376  2377  2378  \\\n",
       "134430  0.004388  0.005619  0.004121  ...   0.0     0.0       0.0   0.0   0.0   \n",
       "134431  0.004388  0.005617  0.004121  ...   0.0     0.0       0.0   0.0   0.0   \n",
       "134432  0.003099  0.009761  0.002385  ...   0.0  2180.0  585728.0   0.0   0.0   \n",
       "134433  0.003099  0.009761  0.002386  ...   0.0  2180.0  585728.0   0.0   0.0   \n",
       "134434  0.003099  0.009761  0.002385  ...   0.0  2180.0  585728.0   0.0   0.0   \n",
       "\n",
       "        2379  2380                 2381  2382  2383  \n",
       "134430   0.0   0.0  1601435122000000000    33     1  \n",
       "134431   0.0   0.0  1601435123000000000    33     1  \n",
       "134432   0.0   0.0  1601435124000000000    33     1  \n",
       "134433   0.0   0.0  1601435126000000000    33     1  \n",
       "134434   0.0   0.0  1601435127000000000    33     1  \n",
       "\n",
       "[5 rows x 2384 columns]"
      ]
     },
     "execution_count": 78,
     "metadata": {},
     "output_type": "execute_result"
    }
   ],
   "source": [
    "X_data_label.tail()"
   ]
  },
  {
   "cell_type": "code",
   "execution_count": 79,
   "id": "27ca006a",
   "metadata": {},
   "outputs": [
    {
     "data": {
      "text/plain": [
       "array([ 1, 11, 14,  0,  3,  6,  4,  9, 10,  2,  8,  5, 13,  7, 12])"
      ]
     },
     "execution_count": 79,
     "metadata": {},
     "output_type": "execute_result"
    }
   ],
   "source": [
    "bodmas_data['category'].unique()"
   ]
  },
  {
   "cell_type": "code",
   "execution_count": 80,
   "id": "06da47d3",
   "metadata": {},
   "outputs": [
    {
     "data": {
      "text/plain": [
       "array([ 1,  1,  1, ..., 11, 11, 11])"
      ]
     },
     "execution_count": 80,
     "metadata": {},
     "output_type": "execute_result"
    }
   ],
   "source": [
    "y_data = bodmas_data.category.values\n",
    "y_data"
   ]
  },
  {
   "cell_type": "code",
   "execution_count": 81,
   "id": "f4eb5db7",
   "metadata": {},
   "outputs": [
    {
     "data": {
      "text/plain": [
       "(134435, 134435, 134435, 134435)"
      ]
     },
     "execution_count": 81,
     "metadata": {},
     "output_type": "execute_result"
    }
   ],
   "source": [
    "len(X_data), len(y_data), len(bodmas_data), len(X)"
   ]
  },
  {
   "cell_type": "code",
   "execution_count": 82,
   "id": "84f78e42",
   "metadata": {},
   "outputs": [
    {
     "data": {
      "text/plain": [
       "0       0\n",
       "1       0\n",
       "2       0\n",
       "3       0\n",
       "4       0\n",
       "       ..\n",
       "2376    0\n",
       "2377    0\n",
       "2378    0\n",
       "2379    0\n",
       "2380    0\n",
       "Length: 2381, dtype: int64"
      ]
     },
     "execution_count": 82,
     "metadata": {},
     "output_type": "execute_result"
    }
   ],
   "source": [
    "X_data.isnull().sum()"
   ]
  },
  {
   "cell_type": "code",
   "execution_count": 83,
   "id": "dd9f91a9",
   "metadata": {},
   "outputs": [],
   "source": [
    "#Initial: Binary Classification\n",
    "X_train, X_test, y_train, y_test = train_test_split(X_data, y, test_size=0.2, stratify=y, random_state=seed)\n",
    "#Extended: Multi-class Classification with family labels\n",
    "X_train_exp, X_test_exp, y_train_exp, y_test_exp = train_test_split(X_data_label, y_data, test_size=0.2, stratify=y, random_state=seed)\n",
    "#Extended: Multi-class Classification without family labels\n",
    "X_train_cate, X_test_cate, y_train_cate, y_test_cate = train_test_split(X_data, y_data, test_size=0.2, stratify=y, random_state=seed)"
   ]
  },
  {
   "cell_type": "code",
   "execution_count": 84,
   "id": "7f573c03",
   "metadata": {},
   "outputs": [
    {
     "name": "stdout",
     "output_type": "stream",
     "text": [
      "(107548, 2381) (107548,) (26887, 2381) (26887,)\n",
      "(107548, 2384) (107548,) (26887, 2384) (26887,)\n",
      "(107548, 2381) (107548,) (26887, 2381) (26887,)\n"
     ]
    }
   ],
   "source": [
    "print(X_train.shape, y_train.shape, X_test.shape, y_test.shape)\n",
    "print(X_train_exp.shape, y_train_exp.shape, X_test_exp.shape, y_test_exp.shape)\n",
    "print(X_train_cate.shape, y_train_cate.shape, X_test_cate.shape, y_test_cate.shape)"
   ]
  },
  {
   "cell_type": "code",
   "execution_count": 85,
   "id": "b74f6888",
   "metadata": {},
   "outputs": [],
   "source": [
    "scaler = MinMaxScaler()\n",
    "X_train = scaler.fit_transform(X_train)\n",
    "X_test = scaler.fit_transform(X_test)"
   ]
  },
  {
   "cell_type": "code",
   "execution_count": 86,
   "id": "acb8c9ca",
   "metadata": {},
   "outputs": [],
   "source": [
    "X_train_exp = scaler.fit_transform(X_train_exp)\n",
    "X_test_exp = scaler.fit_transform(X_test_exp)"
   ]
  },
  {
   "cell_type": "code",
   "execution_count": 87,
   "id": "53a3df41",
   "metadata": {},
   "outputs": [],
   "source": [
    "X_train_cate = scaler.fit_transform(X_train_cate)\n",
    "X_test_cate = scaler.fit_transform(X_test_cate)"
   ]
  },
  {
   "cell_type": "code",
   "execution_count": 88,
   "id": "b8b13e73",
   "metadata": {},
   "outputs": [],
   "source": [
    "def summary(y_test, pred):\n",
    "    acc = accuracy_score(y_test, pred, normalize=True)\n",
    "    prec = precision_score(y_test, pred, average='weighted')\n",
    "    recall = recall_score(y_test, pred, average='weighted')\n",
    "    \n",
    "    print('Length of Testing Data: ', len(y_test))\n",
    "    print('Accuracy: ', acc)\n",
    "    print('Precision: ', prec)\n",
    "    print('Recall Score: ', recall)\n",
    "    "
   ]
  },
  {
   "cell_type": "code",
   "execution_count": 89,
   "id": "efd602b5",
   "metadata": {},
   "outputs": [
    {
     "name": "stdout",
     "output_type": "stream",
     "text": [
      "Length of Testing Data:  26887\n",
      "Accuracy:  0.9594227693680961\n",
      "Precision:  0.9612904769801818\n",
      "Recall Score:  0.9594227693680961\n"
     ]
    }
   ],
   "source": [
    "LogReg = LogisticRegression(random_state=seed)\n",
    "LogReg.fit(X_train, y_train)\n",
    "pred = LogReg.predict(X_test)\n",
    "summary(y_test, pred)"
   ]
  },
  {
   "cell_type": "code",
   "execution_count": 90,
   "id": "c90afaee",
   "metadata": {},
   "outputs": [
    {
     "name": "stdout",
     "output_type": "stream",
     "text": [
      "Length of Testing Data:  26887\n",
      "Accuracy:  0.9452523524379812\n",
      "Precision:  0.935891403985065\n",
      "Recall Score:  0.9452523524379812\n"
     ]
    }
   ],
   "source": [
    "LogReg_exp = LogisticRegression(random_state=seed)\n",
    "LogReg_exp.fit(X_train_exp, y_train_exp)\n",
    "pred_exp = LogReg_exp.predict(X_test_exp)\n",
    "summary(y_test_exp, pred_exp)"
   ]
  },
  {
   "cell_type": "code",
   "execution_count": 91,
   "id": "02cf4fae",
   "metadata": {},
   "outputs": [
    {
     "name": "stdout",
     "output_type": "stream",
     "text": [
      "Length of Testing Data:  26887\n",
      "Accuracy:  0.8389556291144419\n",
      "Precision:  0.8386712950716202\n",
      "Recall Score:  0.8389556291144419\n"
     ]
    }
   ],
   "source": [
    "LogReg_cate = LogisticRegression(random_state=seed)\n",
    "LogReg_cate.fit(X_train_cate, y_train_cate)\n",
    "pred_cate = LogReg_cate.predict(X_test_cate)\n",
    "summary(y_test_cate, pred_cate)"
   ]
  },
  {
   "cell_type": "code",
   "execution_count": 92,
   "id": "bdc66f65",
   "metadata": {},
   "outputs": [
    {
     "name": "stdout",
     "output_type": "stream",
     "text": [
      "0.9799717335515304\n",
      "0.9594227693680961\n",
      "0.9418678171607097\n",
      "0.9452523524379812\n",
      "0.9029084687767323\n",
      "0.8389556291144419\n"
     ]
    }
   ],
   "source": [
    "print(LogReg.score(X_train, y_train))\n",
    "print(LogReg.score(X_test, y_test))\n",
    "print(LogReg_exp.score(X_train_exp, y_train_exp))\n",
    "print(LogReg_exp.score(X_test_exp, y_test_exp))\n",
    "print(LogReg_cate.score(X_train_cate, y_train_cate))\n",
    "print(LogReg_cate.score(X_test_cate, y_test_cate))"
   ]
  },
  {
   "cell_type": "code",
   "execution_count": 93,
   "id": "d3503f07-e58e-4fc3-9899-6154b9d9e1ee",
   "metadata": {},
   "outputs": [],
   "source": [
    "naive_bayes_classifier = MultinomialNB()"
   ]
  },
  {
   "cell_type": "code",
   "execution_count": 94,
   "id": "1fb9e0ba-ab07-45b1-ac42-66a86010dc32",
   "metadata": {},
   "outputs": [
    {
     "name": "stdout",
     "output_type": "stream",
     "text": [
      "0.9594227693680961\n"
     ]
    }
   ],
   "source": [
    "naive_bayes_classifier.fit(X_train, y_train)\n",
    "pred_nb = naive_bayes_classifier.predict(X_test)\n",
    "accuracy_nb = accuracy_score(y_test, pred)\n",
    "print(accuracy_nb)"
   ]
  },
  {
   "cell_type": "code",
   "execution_count": 95,
   "id": "026a4d82-adda-4b7b-8ca7-bbee63f1b922",
   "metadata": {},
   "outputs": [
    {
     "name": "stdout",
     "output_type": "stream",
     "text": [
      "Length of Testing Data:  26887\n",
      "Accuracy:  0.9594227693680961\n",
      "Precision:  0.9612904769801818\n",
      "Recall Score:  0.9594227693680961\n"
     ]
    }
   ],
   "source": [
    "summary(y_test, pred)"
   ]
  },
  {
   "cell_type": "code",
   "execution_count": 96,
   "id": "21cb810a-f47a-4d2e-9a93-5f28636bb96c",
   "metadata": {},
   "outputs": [
    {
     "name": "stdout",
     "output_type": "stream",
     "text": [
      "Accuracy with alpha=0.0: 0.5738089039312679\n",
      "Accuracy with alpha=0.1: 0.7782943429910366\n",
      "Accuracy with alpha=0.2: 0.7782199576003273\n",
      "Accuracy with alpha=0.30000000000000004: 0.7781827649049726\n",
      "Accuracy with alpha=0.4: 0.7781827649049726\n",
      "Accuracy with alpha=0.5: 0.7782199576003273\n",
      "Accuracy with alpha=0.6000000000000001: 0.7780711868189087\n",
      "Accuracy with alpha=0.7000000000000001: 0.7780711868189087\n",
      "Accuracy with alpha=0.8: 0.7780339941235541\n",
      "Accuracy with alpha=0.9: 0.7779968014281995\n",
      "Accuracy with alpha=1.0: 0.7779596087328449\n",
      "Accuracy with alpha=1.1: 0.777848030646781\n",
      "Accuracy with alpha=1.2000000000000002: 0.777848030646781\n",
      "Accuracy with alpha=1.3: 0.7778108379514264\n",
      "Accuracy with alpha=1.4000000000000001: 0.7778108379514264\n",
      "Accuracy with alpha=1.5: 0.7778108379514264\n",
      "Accuracy with alpha=1.6: 0.7777736452560717\n",
      "Accuracy with alpha=1.7000000000000002: 0.7778108379514264\n",
      "Accuracy with alpha=1.8: 0.7777736452560717\n",
      "Accuracy with alpha=1.9000000000000001: 0.7776992598653625\n"
     ]
    }
   ],
   "source": [
    "alphas = np.arange(0,2, 0.1)\n",
    "\n",
    "def train_and_evaluate_nb(alpha, X_train, X_test, y_train, y_test):\n",
    "    nb_classifier = MultinomialNB(alpha=alpha)\n",
    "    nb_classifier.fit(X_train, y_train)\n",
    "    pred_nb = nb_classifier.predict(X_test)\n",
    "    accuracy_nb = accuracy_score(y_test, pred_nb)\n",
    "    print(f'Accuracy with alpha={alpha}: {accuracy_nb}')\n",
    "    return accuracy_nb\n",
    "\n",
    "for alpha in alphas:\n",
    "    train_and_evaluate_nb(alpha, X_train, X_test, y_train, y_test)"
   ]
  },
  {
   "cell_type": "code",
   "execution_count": 97,
   "id": "1ff97474-20b8-4c8a-8da3-2bc8de01ecb1",
   "metadata": {},
   "outputs": [
    {
     "name": "stdout",
     "output_type": "stream",
     "text": [
      "0.6657864395432737\n",
      "Length of Testing Data:  26887\n",
      "Accuracy:  0.6657864395432737\n",
      "Precision:  0.8575393559351874\n",
      "Recall Score:  0.6657864395432737\n"
     ]
    }
   ],
   "source": [
    "naive_bayes_classifier.fit(X_train_exp, y_train_exp)\n",
    "pred_nb_exp = naive_bayes_classifier.predict(X_test_exp)\n",
    "accuracy_nb_exp = accuracy_score(y_test_exp, pred_nb_exp)\n",
    "print(accuracy_nb_exp)\n",
    "summary(y_test_exp, pred_nb_exp)"
   ]
  },
  {
   "cell_type": "code",
   "execution_count": 98,
   "id": "29ad97a1",
   "metadata": {},
   "outputs": [
    {
     "name": "stdout",
     "output_type": "stream",
     "text": [
      "0.601517461970469\n",
      "Length of Testing Data:  26887\n",
      "Accuracy:  0.601517461970469\n",
      "Precision:  0.7635569338505406\n",
      "Recall Score:  0.601517461970469\n"
     ]
    }
   ],
   "source": [
    "naive_bayes_classifier.fit(X_train_cate, y_train_cate)\n",
    "pred_nb_cate = naive_bayes_classifier.predict(X_test_cate)\n",
    "accuracy_nb_cate = accuracy_score(y_test_cate, pred_nb_cate)\n",
    "print(accuracy_nb_cate)\n",
    "summary(y_test_cate, pred_nb_cate)"
   ]
  },
  {
   "cell_type": "code",
   "execution_count": 99,
   "id": "8afb030b",
   "metadata": {},
   "outputs": [
    {
     "name": "stdout",
     "output_type": "stream",
     "text": [
      "Accuracy with alpha=0.0: 0.05630974076691338\n",
      "Accuracy with alpha=0.1: 0.6626622531334846\n",
      "Accuracy with alpha=0.2: 0.6834157771413695\n",
      "Accuracy with alpha=0.30000000000000004: 0.6814445642875739\n",
      "Accuracy with alpha=0.4: 0.6791758098709414\n",
      "Accuracy with alpha=0.5: 0.6777624874474654\n",
      "Accuracy with alpha=0.6000000000000001: 0.6764607431100532\n",
      "Accuracy with alpha=0.7000000000000001: 0.6747498791237401\n",
      "Accuracy with alpha=0.8: 0.6712537657604046\n",
      "Accuracy with alpha=0.9: 0.6681295793506156\n",
      "Accuracy with alpha=1.0: 0.6657864395432737\n",
      "Accuracy with alpha=1.1: 0.664038382861606\n",
      "Accuracy with alpha=1.2000000000000002: 0.6625878677427753\n",
      "Accuracy with alpha=1.3: 0.6619927846171012\n",
      "Accuracy with alpha=1.4000000000000001: 0.6617696284449734\n",
      "Accuracy with alpha=1.5: 0.6616580503589095\n",
      "Accuracy with alpha=1.6: 0.6612117380146539\n",
      "Accuracy with alpha=1.7000000000000002: 0.6608398110611076\n",
      "Accuracy with alpha=1.8: 0.6607654256703983\n",
      "Accuracy with alpha=1.9000000000000001: 0.6605794621936252\n"
     ]
    }
   ],
   "source": [
    "for alpha in alphas:\n",
    "    train_and_evaluate_nb(alpha, X_train_exp, X_test_exp, y_train_exp, y_test_exp)"
   ]
  },
  {
   "cell_type": "code",
   "execution_count": 100,
   "id": "cf7d5dc2-2098-4496-b3f2-63261c45d792",
   "metadata": {},
   "outputs": [
    {
     "name": "stdout",
     "output_type": "stream",
     "text": [
      "Accuracy with alpha=0.0: 0.05630974076691338\n",
      "Accuracy with alpha=0.1: 0.593521032469223\n",
      "Accuracy with alpha=0.2: 0.6133075463978874\n",
      "Accuracy with alpha=0.30000000000000004: 0.612638077881504\n",
      "Accuracy with alpha=0.4: 0.6114851043255105\n",
      "Accuracy with alpha=0.5: 0.6105552869416446\n",
      "Accuracy with alpha=0.6000000000000001: 0.6100345892066799\n",
      "Accuracy with alpha=0.7000000000000001: 0.6093279279949418\n",
      "Accuracy with alpha=0.8: 0.6066500539294083\n",
      "Accuracy with alpha=0.9: 0.6039349871685201\n",
      "Accuracy with alpha=1.0: 0.601517461970469\n",
      "Accuracy with alpha=1.1: 0.6002157176330569\n",
      "Accuracy with alpha=1.2000000000000002: 0.5989511659909994\n",
      "Accuracy with alpha=1.3: 0.5988767806002901\n",
      "Accuracy with alpha=1.4000000000000001: 0.5984304682560345\n",
      "Accuracy with alpha=1.5: 0.5982445047792614\n",
      "Accuracy with alpha=1.6: 0.5980585413024881\n",
      "Accuracy with alpha=1.7000000000000002: 0.5978353851303604\n",
      "Accuracy with alpha=1.8: 0.5976866143489419\n",
      "Accuracy with alpha=1.9000000000000001: 0.5976494216535873\n"
     ]
    }
   ],
   "source": [
    "for alpha in alphas:\n",
    "    train_and_evaluate_nb(alpha, X_train_cate, X_test_cate, y_train_cate, y_test_cate)"
   ]
  },
  {
   "cell_type": "code",
   "execution_count": 101,
   "id": "813d986d-2ed2-49cd-8125-a43a4a51d1d4",
   "metadata": {},
   "outputs": [
    {
     "name": "stdout",
     "output_type": "stream",
     "text": [
      "0.7779596087328449\n",
      "Length of Testing Data:  26887\n",
      "Accuracy:  0.7779596087328449\n",
      "Precision:  0.7818152056757309\n",
      "Recall Score:  0.7779596087328449\n",
      "0.7398370959943467\n",
      "Length of Testing Data:  26887\n",
      "Accuracy:  0.7398370959943467\n",
      "Precision:  0.863790942041558\n",
      "Recall Score:  0.7398370959943467\n",
      "0.6497935805407818\n",
      "Length of Testing Data:  26887\n",
      "Accuracy:  0.6497935805407818\n",
      "Precision:  0.7580737803024589\n",
      "Recall Score:  0.6497935805407818\n"
     ]
    }
   ],
   "source": [
    "ovr_classifier = OneVsRestClassifier(MultinomialNB())\n",
    "ovr_classifier.fit(X_train, y_train)\n",
    "pred_ovr = ovr_classifier.predict(X_test)\n",
    "accuracy_ovr = accuracy_score(y_test, pred_ovr)\n",
    "print(accuracy_ovr)\n",
    "summary(y_test, pred_ovr)\n",
    "\n",
    "ovr_classifier.fit(X_train_exp, y_train_exp)\n",
    "pred_ovr_exp = ovr_classifier.predict(X_test_exp)\n",
    "accuracy_ovr_exp = accuracy_score(y_test_exp, pred_ovr_exp)\n",
    "print(accuracy_ovr_exp)\n",
    "summary(y_test_exp, pred_ovr_exp)\n",
    "\n",
    "ovr_classifier.fit(X_train_cate, y_train_cate)\n",
    "pred_ovr_cate = ovr_classifier.predict(X_test_cate)\n",
    "accuracy_ovr_cate = accuracy_score(y_test_cate, pred_ovr_cate)\n",
    "print(accuracy_ovr_cate)\n",
    "summary(y_test_cate, pred_ovr_cate)"
   ]
  },
  {
   "cell_type": "code",
   "execution_count": 102,
   "id": "12fccc13-d1da-4210-afcc-43e30c6254ec",
   "metadata": {},
   "outputs": [],
   "source": [
    "def train_and_evaluate_ovr(alpha, X_train, X_test, y_train, y_test):\n",
    "    ovr_classifier = OneVsRestClassifier(MultinomialNB())\n",
    "    ovr_classifier.fit(X_train, y_train)\n",
    "    pred_ovr = ovr_classifier.predict(X_test)\n",
    "    accuracy_ovr = accuracy_score(y_test, pred_ovr)\n",
    "    print(f'Accuracy with OVR:={alpha}: {accuracy_ovr}')\n",
    "    return accuracy_ovr\n"
   ]
  },
  {
   "cell_type": "code",
   "execution_count": 103,
   "id": "459fe1e9",
   "metadata": {},
   "outputs": [
    {
     "name": "stdout",
     "output_type": "stream",
     "text": [
      "Accuracy with OVR:=0.0: 0.7779596087328449\n",
      "Accuracy with OVR:=0.1: 0.7779596087328449\n",
      "Accuracy with OVR:=0.2: 0.7779596087328449\n",
      "Accuracy with OVR:=0.30000000000000004: 0.7779596087328449\n",
      "Accuracy with OVR:=0.4: 0.7779596087328449\n",
      "Accuracy with OVR:=0.5: 0.7779596087328449\n",
      "Accuracy with OVR:=0.6000000000000001: 0.7779596087328449\n",
      "Accuracy with OVR:=0.7000000000000001: 0.7779596087328449\n",
      "Accuracy with OVR:=0.8: 0.7779596087328449\n",
      "Accuracy with OVR:=0.9: 0.7779596087328449\n",
      "Accuracy with OVR:=1.0: 0.7779596087328449\n",
      "Accuracy with OVR:=1.1: 0.7779596087328449\n",
      "Accuracy with OVR:=1.2000000000000002: 0.7779596087328449\n",
      "Accuracy with OVR:=1.3: 0.7779596087328449\n",
      "Accuracy with OVR:=1.4000000000000001: 0.7779596087328449\n",
      "Accuracy with OVR:=1.5: 0.7779596087328449\n",
      "Accuracy with OVR:=1.6: 0.7779596087328449\n",
      "Accuracy with OVR:=1.7000000000000002: 0.7779596087328449\n",
      "Accuracy with OVR:=1.8: 0.7779596087328449\n",
      "Accuracy with OVR:=1.9000000000000001: 0.7779596087328449\n"
     ]
    }
   ],
   "source": [
    "for alpha in alphas:\n",
    "    train_and_evaluate_ovr(alpha, X_train, X_test, y_train, y_test)\n"
   ]
  },
  {
   "cell_type": "code",
   "execution_count": 104,
   "id": "9cc12e8f",
   "metadata": {},
   "outputs": [
    {
     "name": "stdout",
     "output_type": "stream",
     "text": [
      "Accuracy with OVR:=0.0: 0.7398370959943467\n",
      "Accuracy with OVR:=0.1: 0.7398370959943467\n",
      "Accuracy with OVR:=0.2: 0.7398370959943467\n",
      "Accuracy with OVR:=0.30000000000000004: 0.7398370959943467\n",
      "Accuracy with OVR:=0.4: 0.7398370959943467\n",
      "Accuracy with OVR:=0.5: 0.7398370959943467\n",
      "Accuracy with OVR:=0.6000000000000001: 0.7398370959943467\n",
      "Accuracy with OVR:=0.7000000000000001: 0.7398370959943467\n",
      "Accuracy with OVR:=0.8: 0.7398370959943467\n",
      "Accuracy with OVR:=0.9: 0.7398370959943467\n",
      "Accuracy with OVR:=1.0: 0.7398370959943467\n",
      "Accuracy with OVR:=1.1: 0.7398370959943467\n",
      "Accuracy with OVR:=1.2000000000000002: 0.7398370959943467\n",
      "Accuracy with OVR:=1.3: 0.7398370959943467\n",
      "Accuracy with OVR:=1.4000000000000001: 0.7398370959943467\n",
      "Accuracy with OVR:=1.5: 0.7398370959943467\n",
      "Accuracy with OVR:=1.6: 0.7398370959943467\n",
      "Accuracy with OVR:=1.7000000000000002: 0.7398370959943467\n",
      "Accuracy with OVR:=1.8: 0.7398370959943467\n",
      "Accuracy with OVR:=1.9000000000000001: 0.7398370959943467\n"
     ]
    }
   ],
   "source": [
    "for alpha in alphas:\n",
    "    train_and_evaluate_ovr(alpha, X_train_exp, X_test_exp, y_train_exp, y_test_exp)\n"
   ]
  },
  {
   "cell_type": "code",
   "execution_count": 105,
   "id": "722cbfaf",
   "metadata": {},
   "outputs": [
    {
     "name": "stdout",
     "output_type": "stream",
     "text": [
      "Accuracy with OVR:=0.0: 0.6497935805407818\n",
      "Accuracy with OVR:=0.1: 0.6497935805407818\n",
      "Accuracy with OVR:=0.2: 0.6497935805407818\n",
      "Accuracy with OVR:=0.30000000000000004: 0.6497935805407818\n",
      "Accuracy with OVR:=0.4: 0.6497935805407818\n",
      "Accuracy with OVR:=0.5: 0.6497935805407818\n",
      "Accuracy with OVR:=0.6000000000000001: 0.6497935805407818\n",
      "Accuracy with OVR:=0.7000000000000001: 0.6497935805407818\n",
      "Accuracy with OVR:=0.8: 0.6497935805407818\n",
      "Accuracy with OVR:=0.9: 0.6497935805407818\n",
      "Accuracy with OVR:=1.0: 0.6497935805407818\n",
      "Accuracy with OVR:=1.1: 0.6497935805407818\n",
      "Accuracy with OVR:=1.2000000000000002: 0.6497935805407818\n",
      "Accuracy with OVR:=1.3: 0.6497935805407818\n",
      "Accuracy with OVR:=1.4000000000000001: 0.6497935805407818\n",
      "Accuracy with OVR:=1.5: 0.6497935805407818\n",
      "Accuracy with OVR:=1.6: 0.6497935805407818\n",
      "Accuracy with OVR:=1.7000000000000002: 0.6497935805407818\n",
      "Accuracy with OVR:=1.8: 0.6497935805407818\n",
      "Accuracy with OVR:=1.9000000000000001: 0.6497935805407818\n"
     ]
    }
   ],
   "source": [
    "for alpha in alphas:\n",
    "    train_and_evaluate_ovr(alpha, X_train_cate, X_test_cate, y_train_cate, y_test_cate)"
   ]
  },
  {
   "cell_type": "code",
   "execution_count": 106,
   "id": "4d269eea-c249-4d31-a796-183be94e14bf",
   "metadata": {},
   "outputs": [],
   "source": [
    "knn = KNeighborsClassifier(n_neighbors=27)\n",
    "dt = DecisionTreeClassifier(min_samples_leaf=0.13, random_state=seed)\n",
    "\n",
    "classifiers = [('KNN', knn), ('Decision Tree', dt), ('Logistic Regression', LogReg)]"
   ]
  },
  {
   "cell_type": "code",
   "execution_count": 107,
   "id": "31dc3870",
   "metadata": {},
   "outputs": [
    {
     "name": "stdout",
     "output_type": "stream",
     "text": [
      "Accuracy of KNN: 0.9820359281437125\n",
      "Length of Testing Data:  26887\n",
      "Accuracy:  0.9820359281437125\n",
      "Precision:  0.9821519872993292\n",
      "Recall Score:  0.9820359281437125\n",
      "Accuracy of Decision Tree: 0.7734220998995798\n",
      "Length of Testing Data:  26887\n",
      "Accuracy:  0.7734220998995798\n",
      "Precision:  0.7841373367681626\n",
      "Recall Score:  0.7734220998995798\n",
      "Accuracy of Logistic Regression: 0.9594227693680961\n",
      "Length of Testing Data:  26887\n",
      "Accuracy:  0.9594227693680961\n",
      "Precision:  0.9612904769801818\n",
      "Recall Score:  0.9594227693680961\n"
     ]
    }
   ],
   "source": [
    "for name, clf in classifiers:\n",
    "    clf.fit(X_train, y_train)\n",
    "    pred = clf.predict(X_test)\n",
    "    print(f'Accuracy of {name}: {accuracy_score(y_test, pred)}')\n",
    "    summary(y_test, pred)"
   ]
  },
  {
   "cell_type": "code",
   "execution_count": 108,
   "id": "01881bb3",
   "metadata": {},
   "outputs": [
    {
     "name": "stdout",
     "output_type": "stream",
     "text": [
      "Accuracy of KNN with extended data: 0.9679027039089523\n",
      "Length of Testing Data:  26887\n",
      "Accuracy:  0.9679027039089523\n",
      "Precision:  0.9668121570749457\n",
      "Recall Score:  0.9679027039089523\n",
      "Accuracy of Decision Tree with extended data: 0.8590024919105888\n",
      "Length of Testing Data:  26887\n",
      "Accuracy:  0.8590024919105888\n",
      "Precision:  0.8146201050911257\n",
      "Recall Score:  0.8590024919105888\n",
      "Accuracy of Logistic Regression with extended data: 0.9452523524379812\n",
      "Length of Testing Data:  26887\n",
      "Accuracy:  0.9452523524379812\n",
      "Precision:  0.935891403985065\n",
      "Recall Score:  0.9452523524379812\n"
     ]
    }
   ],
   "source": [
    "for name, clf in classifiers:\n",
    "    clf.fit(X_train_exp, y_train_exp)\n",
    "    pred_exp = clf.predict(X_test_exp)\n",
    "    print(f'Accuracy of {name} with extended data: {accuracy_score(y_test_exp, pred_exp)}')\n",
    "    summary(y_test_exp, pred_exp)"
   ]
  },
  {
   "cell_type": "code",
   "execution_count": 115,
   "id": "b985f469",
   "metadata": {},
   "outputs": [
    {
     "name": "stdout",
     "output_type": "stream",
     "text": [
      "Accuracy of KNN with categorical data: 0.9479302265035147\n",
      "Length of Testing Data:  26887\n",
      "Accuracy:  0.9479302265035147\n",
      "Precision:  0.9467854320327004\n",
      "Recall Score:  0.9479302265035147\n",
      "Accuracy of Decision Tree with categorical data: 0.6912262431658422\n",
      "Length of Testing Data:  26887\n",
      "Accuracy:  0.6912262431658422\n",
      "Precision:  0.6704771532809066\n",
      "Recall Score:  0.6912262431658422\n",
      "Accuracy of Logistic Regression with categorical data: 0.8389556291144419\n",
      "Length of Testing Data:  26887\n",
      "Accuracy:  0.8389556291144419\n",
      "Precision:  0.8386712950716202\n",
      "Recall Score:  0.8389556291144419\n"
     ]
    }
   ],
   "source": [
    "for name, clf in classifiers:\n",
    "    clf.fit(X_train_cate, y_train_cate)\n",
    "    pred_cate = clf.predict(X_test_cate)\n",
    "    print(f'Accuracy of {name} with categorical data: {accuracy_score(y_test_cate, pred_cate)}')\n",
    "    summary(y_test_cate, pred_cate)"
   ]
  },
  {
   "cell_type": "code",
   "execution_count": 116,
   "id": "7da20722-216d-4d4a-946c-14513d15d529",
   "metadata": {},
   "outputs": [
    {
     "name": "stdout",
     "output_type": "stream",
     "text": [
      "Accuracy of Voting Classifier: 0.9711012757094507\n",
      "Length of Testing Data:  26887\n",
      "Accuracy:  0.9711012757094507\n",
      "Precision:  0.9715951615934719\n",
      "Recall Score:  0.9711012757094507\n",
      "Accuracy of Voting Classifier with extended data: 0.9751924721984602\n",
      "Length of Testing Data:  26887\n",
      "Accuracy:  0.9751924721984602\n",
      "Precision:  0.9732498653019571\n",
      "Recall Score:  0.9751924721984602\n",
      "Accuracy of Voting Classifier with categorical data: 0.8797932086138283\n",
      "Length of Testing Data:  26887\n",
      "Accuracy:  0.8797932086138283\n",
      "Precision:  0.8782197470607359\n",
      "Recall Score:  0.8797932086138283\n"
     ]
    }
   ],
   "source": [
    "vc = VotingClassifier(estimators=classifiers)\n",
    "vc.fit(X_train, y_train)\n",
    "pred_vc = vc.predict(X_test)\n",
    "print(f'Accuracy of Voting Classifier: {accuracy_score(y_test, pred_vc)}')\n",
    "summary(y_test, pred_vc)\n",
    "vc.fit(X_train_exp, y_train_exp)\n",
    "pred_vc_exp = vc.predict(X_test_exp)\n",
    "print(f'Accuracy of Voting Classifier with extended data: {accuracy_score(y_test_exp, pred_vc_exp)}')\n",
    "summary(y_test_exp, pred_vc_exp)\n",
    "vc.fit(X_train_cate, y_train_cate)\n",
    "pred_vc_cate = vc.predict(X_test_cate)\n",
    "print(f'Accuracy of Voting Classifier with categorical data: {accuracy_score(y_test_cate, pred_vc_cate)}')\n",
    "summary(y_test_cate, pred_vc_cate)"
   ]
  },
  {
   "cell_type": "code",
   "execution_count": null,
   "id": "9b742716-dae2-43fa-8536-a88cb7d2ebe5",
   "metadata": {},
   "outputs": [],
   "source": []
  }
 ],
 "metadata": {
  "kernelspec": {
   "display_name": "Python 3 (ipykernel)",
   "language": "python",
   "name": "python3"
  },
  "language_info": {
   "codemirror_mode": {
    "name": "ipython",
    "version": 3
   },
   "file_extension": ".py",
   "mimetype": "text/x-python",
   "name": "python",
   "nbconvert_exporter": "python",
   "pygments_lexer": "ipython3",
   "version": "3.12.7"
  }
 },
 "nbformat": 4,
 "nbformat_minor": 5
}

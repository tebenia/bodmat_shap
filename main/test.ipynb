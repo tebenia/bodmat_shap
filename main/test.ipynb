{
 "cells": [
  {
   "cell_type": "code",
   "execution_count": 28,
   "id": "97066c44",
   "metadata": {},
   "outputs": [
    {
     "data": {
      "text/plain": [
       "[0, 0, 0, 0, 0, 0, 0, 0, 0, 0]"
      ]
     },
     "execution_count": 28,
     "metadata": {},
     "output_type": "execute_result"
    }
   ],
   "source": [
    "feature_ids = [43, 233,22,55,654,4322,323,35,5,645]\n",
    "result = [0] * len(feature_ids)\n",
    "result"
   ]
  },
  {
   "cell_type": "code",
   "execution_count": 29,
   "id": "942e9509",
   "metadata": {},
   "outputs": [
    {
     "name": "stdout",
     "output_type": "stream",
     "text": [
      "True\n"
     ]
    }
   ],
   "source": [
    "criteria = 'argmax_Nv_sum_inverse_shap'\n",
    "if criteria == 'argmax_Nv_sum_inverse_shap' or criteria == 'argmax_sum_inverse_shap':\n",
    "    multiply_by_counts = criteria == 'argmax_Nv_sum_inverse_shap'\n",
    "    print(multiply_by_counts)"
   ]
  },
  {
   "cell_type": "code",
   "execution_count": 30,
   "id": "7d749b2f",
   "metadata": {},
   "outputs": [
    {
     "name": "stdout",
     "output_type": "stream",
     "text": [
      "       43        233       22        55        654       4322      323   \\\n",
      "0  0.296575  0.476221  0.627534  0.351898  0.111400  0.197649  0.331353   \n",
      "1  0.835173  0.078702  0.900339  0.530735  0.013756  0.163282  0.929758   \n",
      "2  0.683902  0.655731  0.405244  0.304996  0.194764  0.877082  0.113826   \n",
      "3  0.662515  0.162102  0.970971  0.138257  0.595518  0.149573  0.863851   \n",
      "4  0.144204  0.287058  0.440881  0.535052  0.288386  0.301448  0.161501   \n",
      "5  0.967947  0.569222  0.863504  0.829221  0.478043  0.004036  0.786551   \n",
      "6  0.230546  0.713519  0.176872  0.442911  0.256346  0.042316  0.004483   \n",
      "7  0.637711  0.486869  0.914116  0.607816  0.440475  0.063077  0.768786   \n",
      "8  0.733315  0.918840  0.023147  0.054310  0.986545  0.491429  0.129449   \n",
      "9  0.421571  0.149669  0.657304  0.633874  0.015878  0.943074  0.913575   \n",
      "\n",
      "       35        5         645   \n",
      "0  0.754971  0.236767  0.395165  \n",
      "1  0.624272  0.072602  0.524244  \n",
      "2  0.249991  0.425788  0.393945  \n",
      "3  0.001642  0.443688  0.031657  \n",
      "4  0.857470  0.653829  0.753612  \n",
      "5  0.422810  0.483256  0.073802  \n",
      "6  0.085645  0.533740  0.430696  \n",
      "7  0.822428  0.648749  0.440007  \n",
      "8  0.357358  0.245808  0.637957  \n",
      "9  0.870871  0.132618  0.668026  \n"
     ]
    }
   ],
   "source": [
    "import pandas as pd\n",
    "\n",
    "import numpy as np  # Import numpy\n",
    "\n",
    "# Create a dataframe with example data\n",
    "example_data = pd.DataFrame(\n",
    "    data=np.random.random((10, len(feature_ids))),  # Random values for demonstration\n",
    "    columns=feature_ids  # Use feature_ids as column names\n",
    ")\n",
    "\n",
    "print(example_data)\n"
   ]
  },
  {
   "cell_type": "code",
   "execution_count": 39,
   "id": "ee31e40a",
   "metadata": {},
   "outputs": [
    {
     "name": "stdout",
     "output_type": "stream",
     "text": [
      "to be:  10\n"
     ]
    }
   ],
   "source": [
    "import numpy as np\n",
    "X = example_data  # Example data\n",
    "feature_ids = np.array(feature_ids)  # Convert feature_ids to a numpy array\n",
    "inverse_abs_shaps = pd.DataFrame()\n",
    "cache = []\n",
    "to_be_calculated = []\n",
    "for feat_index, feature_id in enumerate(feature_ids):\n",
    "    if feature_id in cache:\n",
    "        result[feat_index] = feature_id\n",
    "    else:\n",
    "        to_be_calculated.append(\n",
    "            (feat_index, feature_id, X.loc[:, feature_id], multiply_by_counts))\n",
    "\n",
    "# print('X', X)\n",
    "# print('inverse: ', inverse_abs_shaps)\n",
    "print('to be: ', len(to_be_calculated))"
   ]
  }
 ],
 "metadata": {
  "kernelspec": {
   "display_name": "Python 3",
   "language": "python",
   "name": "python3"
  },
  "language_info": {
   "codemirror_mode": {
    "name": "ipython",
    "version": 3
   },
   "file_extension": ".py",
   "mimetype": "text/x-python",
   "name": "python",
   "nbconvert_exporter": "python",
   "pygments_lexer": "ipython3",
   "version": "3.12.8"
  }
 },
 "nbformat": 4,
 "nbformat_minor": 5
}
